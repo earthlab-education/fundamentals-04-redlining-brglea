{
  "cells": [
    {
      "cell_type": "markdown",
      "id": "0eb4dc23-022c-4b3c-97eb-8c13c90e196c",
      "metadata": {},
      "source": [
        "# STEP 7: Fit a model\n",
        "\n",
        "One way to determine if redlining is related to NDVI is to see if we can\n",
        "correctly predict the redlining grade from the mean NDVI value. With 4\n",
        "categories, we’d expect to be right only about 25% of the time if we\n",
        "guessed the redlining grade at random. Any accuracy greater than 25%\n",
        "indicates that there is a relationship between vegetation health and\n",
        "redlining.\n",
        "\n",
        "To start out, we’ll fit a Decision Tree Classifier to the data. A\n",
        "decision tree is good at splitting data up into squares by setting\n",
        "thresholds. That makes sense for us here, because we’re looking for\n",
        "thresholds in the mean NDVI that indicate a particular redlining grade.\n",
        "\n",
        "First, import variables from previous notebooks:"
      ]
    },
    {
      "cell_type": "code",
      "execution_count": 9,
      "id": "bfd58b22",
      "metadata": {},
      "outputs": [],
      "source": [
        "store -r denver_redlining_ndvi_gdf"
      ]
    },
    {
      "cell_type": "markdown",
      "id": "c5a6e603-b9b9-4bac-9626-9b402f240124",
      "metadata": {},
      "source": [
        "<link rel=\"stylesheet\" type=\"text/css\" href=\"./assets/styles.css\"><div class=\"callout callout-style-default callout-titled callout-task\"><div class=\"callout-header\"><div class=\"callout-icon-container\"><i class=\"callout-icon\"></i></div><div class=\"callout-title-container flex-fill\">Try It: Import packages</div></div><div class=\"callout-body-container callout-body\"><p>The cell below imports some functions and classes from the\n",
        "<code>scikit-learn</code> package to help you fit and evaluate a\n",
        "decision tree model on your data. You may need some additional packages\n",
        "later one. Make sure to import them here.</p></div></div>"
      ]
    },
    {
      "cell_type": "code",
      "execution_count": 10,
      "id": "8128d1af",
      "metadata": {
        "highlight": true
      },
      "outputs": [
        {
          "data": {
            "text/html": [
              "<script type=\"esms-options\">{\"shimMode\": true}</script><style>*[data-root-id],\n",
              "*[data-root-id] > * {\n",
              "  box-sizing: border-box;\n",
              "  font-family: var(--jp-ui-font-family);\n",
              "  font-size: var(--jp-ui-font-size1);\n",
              "  color: var(--vscode-editor-foreground, var(--jp-ui-font-color1));\n",
              "}\n",
              "\n",
              "/* Override VSCode background color */\n",
              ".cell-output-ipywidget-background:has(\n",
              "    > .cell-output-ipywidget-background > .lm-Widget > *[data-root-id]\n",
              "  ),\n",
              ".cell-output-ipywidget-background:has(> .lm-Widget > *[data-root-id]) {\n",
              "  background-color: transparent !important;\n",
              "}\n",
              "</style>"
            ]
          },
          "metadata": {},
          "output_type": "display_data"
        },
        {
          "data": {
            "application/javascript": "(function(root) {\n  function now() {\n    return new Date();\n  }\n\n  const force = true;\n  const py_version = '3.5.2'.replace('rc', '-rc.').replace('.dev', '-dev.');\n  const reloading = false;\n  const Bokeh = root.Bokeh;\n\n  // Set a timeout for this load but only if we are not already initializing\n  if (typeof (root._bokeh_timeout) === \"undefined\" || (force || !root._bokeh_is_initializing)) {\n    root._bokeh_timeout = Date.now() + 5000;\n    root._bokeh_failed_load = false;\n  }\n\n  function run_callbacks() {\n    try {\n      root._bokeh_onload_callbacks.forEach(function(callback) {\n        if (callback != null)\n          callback();\n      });\n    } finally {\n      delete root._bokeh_onload_callbacks;\n    }\n    console.debug(\"Bokeh: all callbacks have finished\");\n  }\n\n  function load_libs(css_urls, js_urls, js_modules, js_exports, callback) {\n    if (css_urls == null) css_urls = [];\n    if (js_urls == null) js_urls = [];\n    if (js_modules == null) js_modules = [];\n    if (js_exports == null) js_exports = {};\n\n    root._bokeh_onload_callbacks.push(callback);\n\n    if (root._bokeh_is_loading > 0) {\n      // Don't load bokeh if it is still initializing\n      console.debug(\"Bokeh: BokehJS is being loaded, scheduling callback at\", now());\n      return null;\n    } else if (js_urls.length === 0 && js_modules.length === 0 && Object.keys(js_exports).length === 0) {\n      // There is nothing to load\n      run_callbacks();\n      return null;\n    }\n\n    function on_load() {\n      root._bokeh_is_loading--;\n      if (root._bokeh_is_loading === 0) {\n        console.debug(\"Bokeh: all BokehJS libraries/stylesheets loaded\");\n        run_callbacks()\n      }\n    }\n    window._bokeh_on_load = on_load\n\n    function on_error(e) {\n      const src_el = e.srcElement\n      console.error(\"failed to load \" + (src_el.href || src_el.src));\n    }\n\n    const skip = [];\n    if (window.requirejs) {\n      window.requirejs.config({'packages': {}, 'paths': {}, 'shim': {}});\n      root._bokeh_is_loading = css_urls.length + 0;\n    } else {\n      root._bokeh_is_loading = css_urls.length + js_urls.length + js_modules.length + Object.keys(js_exports).length;\n    }\n\n    const existing_stylesheets = []\n    const links = document.getElementsByTagName('link')\n    for (let i = 0; i < links.length; i++) {\n      const link = links[i]\n      if (link.href != null) {\n        existing_stylesheets.push(link.href)\n      }\n    }\n    for (let i = 0; i < css_urls.length; i++) {\n      const url = css_urls[i];\n      const escaped = encodeURI(url)\n      if (existing_stylesheets.indexOf(escaped) !== -1) {\n        on_load()\n        continue;\n      }\n      const element = document.createElement(\"link\");\n      element.onload = on_load;\n      element.onerror = on_error;\n      element.rel = \"stylesheet\";\n      element.type = \"text/css\";\n      element.href = url;\n      console.debug(\"Bokeh: injecting link tag for BokehJS stylesheet: \", url);\n      document.body.appendChild(element);\n    }    var existing_scripts = []\n    const scripts = document.getElementsByTagName('script')\n    for (let i = 0; i < scripts.length; i++) {\n      var script = scripts[i]\n      if (script.src != null) {\n        existing_scripts.push(script.src)\n      }\n    }\n    for (let i = 0; i < js_urls.length; i++) {\n      const url = js_urls[i];\n      const escaped = encodeURI(url)\n      if (skip.indexOf(escaped) !== -1 || existing_scripts.indexOf(escaped) !== -1) {\n        if (!window.requirejs) {\n          on_load();\n        }\n        continue;\n      }\n      const element = document.createElement('script');\n      element.onload = on_load;\n      element.onerror = on_error;\n      element.async = false;\n      element.src = url;\n      console.debug(\"Bokeh: injecting script tag for BokehJS library: \", url);\n      document.head.appendChild(element);\n    }\n    for (let i = 0; i < js_modules.length; i++) {\n      const url = js_modules[i];\n      const escaped = encodeURI(url)\n      if (skip.indexOf(escaped) !== -1 || existing_scripts.indexOf(escaped) !== -1) {\n        if (!window.requirejs) {\n          on_load();\n        }\n        continue;\n      }\n      var element = document.createElement('script');\n      element.onload = on_load;\n      element.onerror = on_error;\n      element.async = false;\n      element.src = url;\n      element.type = \"module\";\n      console.debug(\"Bokeh: injecting script tag for BokehJS library: \", url);\n      document.head.appendChild(element);\n    }\n    for (const name in js_exports) {\n      const url = js_exports[name];\n      const escaped = encodeURI(url)\n      if (skip.indexOf(escaped) >= 0 || root[name] != null) {\n        if (!window.requirejs) {\n          on_load();\n        }\n        continue;\n      }\n      var element = document.createElement('script');\n      element.onerror = on_error;\n      element.async = false;\n      element.type = \"module\";\n      console.debug(\"Bokeh: injecting script tag for BokehJS library: \", url);\n      element.textContent = `\n      import ${name} from \"${url}\"\n      window.${name} = ${name}\n      window._bokeh_on_load()\n      `\n      document.head.appendChild(element);\n    }\n    if (!js_urls.length && !js_modules.length) {\n      on_load()\n    }\n  };\n\n  function inject_raw_css(css) {\n    const element = document.createElement(\"style\");\n    element.appendChild(document.createTextNode(css));\n    document.body.appendChild(element);\n  }\n\n  const js_urls = [\"https://cdn.holoviz.org/panel/1.5.2/dist/bundled/reactiveesm/es-module-shims@^1.10.0/dist/es-module-shims.min.js\", \"https://cdn.bokeh.org/bokeh/release/bokeh-3.5.2.min.js\", \"https://cdn.bokeh.org/bokeh/release/bokeh-gl-3.5.2.min.js\", \"https://cdn.bokeh.org/bokeh/release/bokeh-widgets-3.5.2.min.js\", \"https://cdn.bokeh.org/bokeh/release/bokeh-tables-3.5.2.min.js\", \"https://cdn.holoviz.org/panel/1.5.2/dist/panel.min.js\", \"https://cdn.jsdelivr.net/npm/@holoviz/geoviews@1.13.0/dist/geoviews.min.js\"];\n  const js_modules = [];\n  const js_exports = {};\n  const css_urls = [];\n  const inline_js = [    function(Bokeh) {\n      Bokeh.set_log_level(\"info\");\n    },\nfunction(Bokeh) {} // ensure no trailing comma for IE\n  ];\n\n  function run_inline_js() {\n    if ((root.Bokeh !== undefined) || (force === true)) {\n      for (let i = 0; i < inline_js.length; i++) {\n        try {\n          inline_js[i].call(root, root.Bokeh);\n        } catch(e) {\n          if (!reloading) {\n            throw e;\n          }\n        }\n      }\n      // Cache old bokeh versions\n      if (Bokeh != undefined && !reloading) {\n        var NewBokeh = root.Bokeh;\n        if (Bokeh.versions === undefined) {\n          Bokeh.versions = new Map();\n        }\n        if (NewBokeh.version !== Bokeh.version) {\n          Bokeh.versions.set(NewBokeh.version, NewBokeh)\n        }\n        root.Bokeh = Bokeh;\n      }\n    } else if (Date.now() < root._bokeh_timeout) {\n      setTimeout(run_inline_js, 100);\n    } else if (!root._bokeh_failed_load) {\n      console.log(\"Bokeh: BokehJS failed to load within specified timeout.\");\n      root._bokeh_failed_load = true;\n    }\n    root._bokeh_is_initializing = false\n  }\n\n  function load_or_wait() {\n    // Implement a backoff loop that tries to ensure we do not load multiple\n    // versions of Bokeh and its dependencies at the same time.\n    // In recent versions we use the root._bokeh_is_initializing flag\n    // to determine whether there is an ongoing attempt to initialize\n    // bokeh, however for backward compatibility we also try to ensure\n    // that we do not start loading a newer (Panel>=1.0 and Bokeh>3) version\n    // before older versions are fully initialized.\n    if (root._bokeh_is_initializing && Date.now() > root._bokeh_timeout) {\n      // If the timeout and bokeh was not successfully loaded we reset\n      // everything and try loading again\n      root._bokeh_timeout = Date.now() + 5000;\n      root._bokeh_is_initializing = false;\n      root._bokeh_onload_callbacks = undefined;\n      root._bokeh_is_loading = 0\n      console.log(\"Bokeh: BokehJS was loaded multiple times but one version failed to initialize.\");\n      load_or_wait();\n    } else if (root._bokeh_is_initializing || (typeof root._bokeh_is_initializing === \"undefined\" && root._bokeh_onload_callbacks !== undefined)) {\n      setTimeout(load_or_wait, 100);\n    } else {\n      root._bokeh_is_initializing = true\n      root._bokeh_onload_callbacks = []\n      const bokeh_loaded = root.Bokeh != null && (root.Bokeh.version === py_version || (root.Bokeh.versions !== undefined && root.Bokeh.versions.has(py_version)));\n      if (!reloading && !bokeh_loaded) {\n        if (root.Bokeh) {\n          root.Bokeh = undefined;\n        }\n        console.debug(\"Bokeh: BokehJS not loaded, scheduling load and callback at\", now());\n      }\n      load_libs(css_urls, js_urls, js_modules, js_exports, function() {\n        console.debug(\"Bokeh: BokehJS plotting callback run at\", now());\n        run_inline_js();\n      });\n    }\n  }\n  // Give older versions of the autoload script a head-start to ensure\n  // they initialize before we start loading newer version.\n  setTimeout(load_or_wait, 100)\n}(window));",
            "application/vnd.holoviews_load.v0+json": ""
          },
          "metadata": {},
          "output_type": "display_data"
        },
        {
          "data": {
            "application/javascript": "\nif ((window.PyViz === undefined) || (window.PyViz instanceof HTMLElement)) {\n  window.PyViz = {comms: {}, comm_status:{}, kernels:{}, receivers: {}, plot_index: []}\n}\n\n\n    function JupyterCommManager() {\n    }\n\n    JupyterCommManager.prototype.register_target = function(plot_id, comm_id, msg_handler) {\n      if (window.comm_manager || ((window.Jupyter !== undefined) && (Jupyter.notebook.kernel != null))) {\n        var comm_manager = window.comm_manager || Jupyter.notebook.kernel.comm_manager;\n        comm_manager.register_target(comm_id, function(comm) {\n          comm.on_msg(msg_handler);\n        });\n      } else if ((plot_id in window.PyViz.kernels) && (window.PyViz.kernels[plot_id])) {\n        window.PyViz.kernels[plot_id].registerCommTarget(comm_id, function(comm) {\n          comm.onMsg = msg_handler;\n        });\n      } else if (typeof google != 'undefined' && google.colab.kernel != null) {\n        google.colab.kernel.comms.registerTarget(comm_id, (comm) => {\n          var messages = comm.messages[Symbol.asyncIterator]();\n          function processIteratorResult(result) {\n            var message = result.value;\n            console.log(message)\n            var content = {data: message.data, comm_id};\n            var buffers = []\n            for (var buffer of message.buffers || []) {\n              buffers.push(new DataView(buffer))\n            }\n            var metadata = message.metadata || {};\n            var msg = {content, buffers, metadata}\n            msg_handler(msg);\n            return messages.next().then(processIteratorResult);\n          }\n          return messages.next().then(processIteratorResult);\n        })\n      }\n    }\n\n    JupyterCommManager.prototype.get_client_comm = function(plot_id, comm_id, msg_handler) {\n      if (comm_id in window.PyViz.comms) {\n        return window.PyViz.comms[comm_id];\n      } else if (window.comm_manager || ((window.Jupyter !== undefined) && (Jupyter.notebook.kernel != null))) {\n        var comm_manager = window.comm_manager || Jupyter.notebook.kernel.comm_manager;\n        var comm = comm_manager.new_comm(comm_id, {}, {}, {}, comm_id);\n        if (msg_handler) {\n          comm.on_msg(msg_handler);\n        }\n      } else if ((plot_id in window.PyViz.kernels) && (window.PyViz.kernels[plot_id])) {\n        var comm = window.PyViz.kernels[plot_id].connectToComm(comm_id);\n        comm.open();\n        if (msg_handler) {\n          comm.onMsg = msg_handler;\n        }\n      } else if (typeof google != 'undefined' && google.colab.kernel != null) {\n        var comm_promise = google.colab.kernel.comms.open(comm_id)\n        comm_promise.then((comm) => {\n          window.PyViz.comms[comm_id] = comm;\n          if (msg_handler) {\n            var messages = comm.messages[Symbol.asyncIterator]();\n            function processIteratorResult(result) {\n              var message = result.value;\n              var content = {data: message.data};\n              var metadata = message.metadata || {comm_id};\n              var msg = {content, metadata}\n              msg_handler(msg);\n              return messages.next().then(processIteratorResult);\n            }\n            return messages.next().then(processIteratorResult);\n          }\n        }) \n        var sendClosure = (data, metadata, buffers, disposeOnDone) => {\n          return comm_promise.then((comm) => {\n            comm.send(data, metadata, buffers, disposeOnDone);\n          });\n        };\n        var comm = {\n          send: sendClosure\n        };\n      }\n      window.PyViz.comms[comm_id] = comm;\n      return comm;\n    }\n    window.PyViz.comm_manager = new JupyterCommManager();\n    \n\n\nvar JS_MIME_TYPE = 'application/javascript';\nvar HTML_MIME_TYPE = 'text/html';\nvar EXEC_MIME_TYPE = 'application/vnd.holoviews_exec.v0+json';\nvar CLASS_NAME = 'output';\n\n/**\n * Render data to the DOM node\n */\nfunction render(props, node) {\n  var div = document.createElement(\"div\");\n  var script = document.createElement(\"script\");\n  node.appendChild(div);\n  node.appendChild(script);\n}\n\n/**\n * Handle when a new output is added\n */\nfunction handle_add_output(event, handle) {\n  var output_area = handle.output_area;\n  var output = handle.output;\n  if ((output.data == undefined) || (!output.data.hasOwnProperty(EXEC_MIME_TYPE))) {\n    return\n  }\n  var id = output.metadata[EXEC_MIME_TYPE][\"id\"];\n  var toinsert = output_area.element.find(\".\" + CLASS_NAME.split(' ')[0]);\n  if (id !== undefined) {\n    var nchildren = toinsert.length;\n    var html_node = toinsert[nchildren-1].children[0];\n    html_node.innerHTML = output.data[HTML_MIME_TYPE];\n    var scripts = [];\n    var nodelist = html_node.querySelectorAll(\"script\");\n    for (var i in nodelist) {\n      if (nodelist.hasOwnProperty(i)) {\n        scripts.push(nodelist[i])\n      }\n    }\n\n    scripts.forEach( function (oldScript) {\n      var newScript = document.createElement(\"script\");\n      var attrs = [];\n      var nodemap = oldScript.attributes;\n      for (var j in nodemap) {\n        if (nodemap.hasOwnProperty(j)) {\n          attrs.push(nodemap[j])\n        }\n      }\n      attrs.forEach(function(attr) { newScript.setAttribute(attr.name, attr.value) });\n      newScript.appendChild(document.createTextNode(oldScript.innerHTML));\n      oldScript.parentNode.replaceChild(newScript, oldScript);\n    });\n    if (JS_MIME_TYPE in output.data) {\n      toinsert[nchildren-1].children[1].textContent = output.data[JS_MIME_TYPE];\n    }\n    output_area._hv_plot_id = id;\n    if ((window.Bokeh !== undefined) && (id in Bokeh.index)) {\n      window.PyViz.plot_index[id] = Bokeh.index[id];\n    } else {\n      window.PyViz.plot_index[id] = null;\n    }\n  } else if (output.metadata[EXEC_MIME_TYPE][\"server_id\"] !== undefined) {\n    var bk_div = document.createElement(\"div\");\n    bk_div.innerHTML = output.data[HTML_MIME_TYPE];\n    var script_attrs = bk_div.children[0].attributes;\n    for (var i = 0; i < script_attrs.length; i++) {\n      toinsert[toinsert.length - 1].childNodes[1].setAttribute(script_attrs[i].name, script_attrs[i].value);\n    }\n    // store reference to server id on output_area\n    output_area._bokeh_server_id = output.metadata[EXEC_MIME_TYPE][\"server_id\"];\n  }\n}\n\n/**\n * Handle when an output is cleared or removed\n */\nfunction handle_clear_output(event, handle) {\n  var id = handle.cell.output_area._hv_plot_id;\n  var server_id = handle.cell.output_area._bokeh_server_id;\n  if (((id === undefined) || !(id in PyViz.plot_index)) && (server_id !== undefined)) { return; }\n  var comm = window.PyViz.comm_manager.get_client_comm(\"hv-extension-comm\", \"hv-extension-comm\", function () {});\n  if (server_id !== null) {\n    comm.send({event_type: 'server_delete', 'id': server_id});\n    return;\n  } else if (comm !== null) {\n    comm.send({event_type: 'delete', 'id': id});\n  }\n  delete PyViz.plot_index[id];\n  if ((window.Bokeh !== undefined) & (id in window.Bokeh.index)) {\n    var doc = window.Bokeh.index[id].model.document\n    doc.clear();\n    const i = window.Bokeh.documents.indexOf(doc);\n    if (i > -1) {\n      window.Bokeh.documents.splice(i, 1);\n    }\n  }\n}\n\n/**\n * Handle kernel restart event\n */\nfunction handle_kernel_cleanup(event, handle) {\n  delete PyViz.comms[\"hv-extension-comm\"];\n  window.PyViz.plot_index = {}\n}\n\n/**\n * Handle update_display_data messages\n */\nfunction handle_update_output(event, handle) {\n  handle_clear_output(event, {cell: {output_area: handle.output_area}})\n  handle_add_output(event, handle)\n}\n\nfunction register_renderer(events, OutputArea) {\n  function append_mime(data, metadata, element) {\n    // create a DOM node to render to\n    var toinsert = this.create_output_subarea(\n    metadata,\n    CLASS_NAME,\n    EXEC_MIME_TYPE\n    );\n    this.keyboard_manager.register_events(toinsert);\n    // Render to node\n    var props = {data: data, metadata: metadata[EXEC_MIME_TYPE]};\n    render(props, toinsert[0]);\n    element.append(toinsert);\n    return toinsert\n  }\n\n  events.on('output_added.OutputArea', handle_add_output);\n  events.on('output_updated.OutputArea', handle_update_output);\n  events.on('clear_output.CodeCell', handle_clear_output);\n  events.on('delete.Cell', handle_clear_output);\n  events.on('kernel_ready.Kernel', handle_kernel_cleanup);\n\n  OutputArea.prototype.register_mime_type(EXEC_MIME_TYPE, append_mime, {\n    safe: true,\n    index: 0\n  });\n}\n\nif (window.Jupyter !== undefined) {\n  try {\n    var events = require('base/js/events');\n    var OutputArea = require('notebook/js/outputarea').OutputArea;\n    if (OutputArea.prototype.mime_types().indexOf(EXEC_MIME_TYPE) == -1) {\n      register_renderer(events, OutputArea);\n    }\n  } catch(err) {\n  }\n}\n",
            "application/vnd.holoviews_load.v0+json": ""
          },
          "metadata": {},
          "output_type": "display_data"
        },
        {
          "data": {
            "application/vnd.holoviews_exec.v0+json": "",
            "text/html": [
              "<div id='p1399'>\n",
              "  <div id=\"e3bf7bda-d218-485c-91d9-80229ac6fec3\" data-root-id=\"p1399\" style=\"display: contents;\"></div>\n",
              "</div>\n",
              "<script type=\"application/javascript\">(function(root) {\n",
              "  var docs_json = {\"345f5484-809e-434b-aee7-639f8f7f4dd9\":{\"version\":\"3.5.2\",\"title\":\"Bokeh Application\",\"roots\":[{\"type\":\"object\",\"name\":\"panel.models.browser.BrowserInfo\",\"id\":\"p1399\"},{\"type\":\"object\",\"name\":\"panel.models.comm_manager.CommManager\",\"id\":\"p1400\",\"attributes\":{\"plot_id\":\"p1399\",\"comm_id\":\"2a88da0ff24743b6bdb47945d17dfd63\",\"client_comm_id\":\"0cf6d489df8c45089ddbc78d371d00f8\"}}],\"defs\":[{\"type\":\"model\",\"name\":\"ReactiveHTML1\"},{\"type\":\"model\",\"name\":\"FlexBox1\",\"properties\":[{\"name\":\"align_content\",\"kind\":\"Any\",\"default\":\"flex-start\"},{\"name\":\"align_items\",\"kind\":\"Any\",\"default\":\"flex-start\"},{\"name\":\"flex_direction\",\"kind\":\"Any\",\"default\":\"row\"},{\"name\":\"flex_wrap\",\"kind\":\"Any\",\"default\":\"wrap\"},{\"name\":\"gap\",\"kind\":\"Any\",\"default\":\"\"},{\"name\":\"justify_content\",\"kind\":\"Any\",\"default\":\"flex-start\"}]},{\"type\":\"model\",\"name\":\"FloatPanel1\",\"properties\":[{\"name\":\"config\",\"kind\":\"Any\",\"default\":{\"type\":\"map\"}},{\"name\":\"contained\",\"kind\":\"Any\",\"default\":true},{\"name\":\"position\",\"kind\":\"Any\",\"default\":\"right-top\"},{\"name\":\"offsetx\",\"kind\":\"Any\",\"default\":null},{\"name\":\"offsety\",\"kind\":\"Any\",\"default\":null},{\"name\":\"theme\",\"kind\":\"Any\",\"default\":\"primary\"},{\"name\":\"status\",\"kind\":\"Any\",\"default\":\"normalized\"}]},{\"type\":\"model\",\"name\":\"GridStack1\",\"properties\":[{\"name\":\"mode\",\"kind\":\"Any\",\"default\":\"warn\"},{\"name\":\"ncols\",\"kind\":\"Any\",\"default\":null},{\"name\":\"nrows\",\"kind\":\"Any\",\"default\":null},{\"name\":\"allow_resize\",\"kind\":\"Any\",\"default\":true},{\"name\":\"allow_drag\",\"kind\":\"Any\",\"default\":true},{\"name\":\"state\",\"kind\":\"Any\",\"default\":[]}]},{\"type\":\"model\",\"name\":\"drag1\",\"properties\":[{\"name\":\"slider_width\",\"kind\":\"Any\",\"default\":5},{\"name\":\"slider_color\",\"kind\":\"Any\",\"default\":\"black\"},{\"name\":\"value\",\"kind\":\"Any\",\"default\":50}]},{\"type\":\"model\",\"name\":\"click1\",\"properties\":[{\"name\":\"terminal_output\",\"kind\":\"Any\",\"default\":\"\"},{\"name\":\"debug_name\",\"kind\":\"Any\",\"default\":\"\"},{\"name\":\"clears\",\"kind\":\"Any\",\"default\":0}]},{\"type\":\"model\",\"name\":\"FastWrapper1\",\"properties\":[{\"name\":\"object\",\"kind\":\"Any\",\"default\":null},{\"name\":\"style\",\"kind\":\"Any\",\"default\":null}]},{\"type\":\"model\",\"name\":\"NotificationAreaBase1\",\"properties\":[{\"name\":\"js_events\",\"kind\":\"Any\",\"default\":{\"type\":\"map\"}},{\"name\":\"position\",\"kind\":\"Any\",\"default\":\"bottom-right\"},{\"name\":\"_clear\",\"kind\":\"Any\",\"default\":0}]},{\"type\":\"model\",\"name\":\"NotificationArea1\",\"properties\":[{\"name\":\"js_events\",\"kind\":\"Any\",\"default\":{\"type\":\"map\"}},{\"name\":\"notifications\",\"kind\":\"Any\",\"default\":[]},{\"name\":\"position\",\"kind\":\"Any\",\"default\":\"bottom-right\"},{\"name\":\"_clear\",\"kind\":\"Any\",\"default\":0},{\"name\":\"types\",\"kind\":\"Any\",\"default\":[{\"type\":\"map\",\"entries\":[[\"type\",\"warning\"],[\"background\",\"#ffc107\"],[\"icon\",{\"type\":\"map\",\"entries\":[[\"className\",\"fas fa-exclamation-triangle\"],[\"tagName\",\"i\"],[\"color\",\"white\"]]}]]},{\"type\":\"map\",\"entries\":[[\"type\",\"info\"],[\"background\",\"#007bff\"],[\"icon\",{\"type\":\"map\",\"entries\":[[\"className\",\"fas fa-info-circle\"],[\"tagName\",\"i\"],[\"color\",\"white\"]]}]]}]}]},{\"type\":\"model\",\"name\":\"Notification\",\"properties\":[{\"name\":\"background\",\"kind\":\"Any\",\"default\":null},{\"name\":\"duration\",\"kind\":\"Any\",\"default\":3000},{\"name\":\"icon\",\"kind\":\"Any\",\"default\":null},{\"name\":\"message\",\"kind\":\"Any\",\"default\":\"\"},{\"name\":\"notification_type\",\"kind\":\"Any\",\"default\":null},{\"name\":\"_destroyed\",\"kind\":\"Any\",\"default\":false}]},{\"type\":\"model\",\"name\":\"TemplateActions1\",\"properties\":[{\"name\":\"open_modal\",\"kind\":\"Any\",\"default\":0},{\"name\":\"close_modal\",\"kind\":\"Any\",\"default\":0}]},{\"type\":\"model\",\"name\":\"BootstrapTemplateActions1\",\"properties\":[{\"name\":\"open_modal\",\"kind\":\"Any\",\"default\":0},{\"name\":\"close_modal\",\"kind\":\"Any\",\"default\":0}]},{\"type\":\"model\",\"name\":\"TemplateEditor1\",\"properties\":[{\"name\":\"layout\",\"kind\":\"Any\",\"default\":[]}]},{\"type\":\"model\",\"name\":\"MaterialTemplateActions1\",\"properties\":[{\"name\":\"open_modal\",\"kind\":\"Any\",\"default\":0},{\"name\":\"close_modal\",\"kind\":\"Any\",\"default\":0}]},{\"type\":\"model\",\"name\":\"ReactiveESM1\"},{\"type\":\"model\",\"name\":\"JSComponent1\"},{\"type\":\"model\",\"name\":\"ReactComponent1\"},{\"type\":\"model\",\"name\":\"AnyWidgetComponent1\"},{\"type\":\"model\",\"name\":\"request_value1\",\"properties\":[{\"name\":\"fill\",\"kind\":\"Any\",\"default\":\"none\"},{\"name\":\"_synced\",\"kind\":\"Any\",\"default\":null},{\"name\":\"_request_sync\",\"kind\":\"Any\",\"default\":0}]}]}};\n",
              "  var render_items = [{\"docid\":\"345f5484-809e-434b-aee7-639f8f7f4dd9\",\"roots\":{\"p1399\":\"e3bf7bda-d218-485c-91d9-80229ac6fec3\"},\"root_ids\":[\"p1399\"]}];\n",
              "  var docs = Object.values(docs_json)\n",
              "  if (!docs) {\n",
              "    return\n",
              "  }\n",
              "  const py_version = docs[0].version.replace('rc', '-rc.').replace('.dev', '-dev.')\n",
              "  async function embed_document(root) {\n",
              "    var Bokeh = get_bokeh(root)\n",
              "    await Bokeh.embed.embed_items_notebook(docs_json, render_items);\n",
              "    for (const render_item of render_items) {\n",
              "      for (const root_id of render_item.root_ids) {\n",
              "\tconst id_el = document.getElementById(root_id)\n",
              "\tif (id_el.children.length && id_el.children[0].hasAttribute('data-root-id')) {\n",
              "\t  const root_el = id_el.children[0]\n",
              "\t  root_el.id = root_el.id + '-rendered'\n",
              "\t  for (const child of root_el.children) {\n",
              "            // Ensure JupyterLab does not capture keyboard shortcuts\n",
              "            // see: https://jupyterlab.readthedocs.io/en/4.1.x/extension/notebook.html#keyboard-interaction-model\n",
              "\t    child.setAttribute('data-lm-suppress-shortcuts', 'true')\n",
              "\t  }\n",
              "\t}\n",
              "      }\n",
              "    }\n",
              "  }\n",
              "  function get_bokeh(root) {\n",
              "    if (root.Bokeh === undefined) {\n",
              "      return null\n",
              "    } else if (root.Bokeh.version !== py_version) {\n",
              "      if (root.Bokeh.versions === undefined || !root.Bokeh.versions.has(py_version)) {\n",
              "\treturn null\n",
              "      }\n",
              "      return root.Bokeh.versions.get(py_version);\n",
              "    } else if (root.Bokeh.version === py_version) {\n",
              "      return root.Bokeh\n",
              "    }\n",
              "    return null\n",
              "  }\n",
              "  function is_loaded(root) {\n",
              "    var Bokeh = get_bokeh(root)\n",
              "    return (Bokeh != null && Bokeh.Panel !== undefined)\n",
              "  }\n",
              "  if (is_loaded(root)) {\n",
              "    embed_document(root);\n",
              "  } else {\n",
              "    var attempts = 0;\n",
              "    var timer = setInterval(function(root) {\n",
              "      if (is_loaded(root)) {\n",
              "        clearInterval(timer);\n",
              "        embed_document(root);\n",
              "      } else if (document.readyState == \"complete\") {\n",
              "        attempts++;\n",
              "        if (attempts > 200) {\n",
              "          clearInterval(timer);\n",
              "\t  var Bokeh = get_bokeh(root)\n",
              "\t  if (Bokeh == null || Bokeh.Panel == null) {\n",
              "            console.warn(\"Panel: ERROR: Unable to run Panel code because Bokeh or Panel library is missing\");\n",
              "\t  } else {\n",
              "\t    console.warn(\"Panel: WARNING: Attempting to render but not all required libraries could be resolved.\")\n",
              "\t    embed_document(root)\n",
              "\t  }\n",
              "        }\n",
              "      }\n",
              "    }, 25, root)\n",
              "  }\n",
              "})(window);</script>"
            ]
          },
          "metadata": {
            "application/vnd.holoviews_exec.v0+json": {
              "id": "p1399"
            }
          },
          "output_type": "display_data"
        }
      ],
      "source": [
        "import hvplot.pandas # Interactive plots with pandas\n",
        "import matplotlib.pyplot as plt # Overlay raster and vector data\n",
        "from sklearn.tree import DecisionTreeClassifier, plot_tree\n",
        "from sklearn.model_selection import train_test_split, cross_val_score"
      ]
    },
    {
      "cell_type": "markdown",
      "id": "878dcf08-b82b-4ede-9403-f588d37cf047",
      "metadata": {},
      "source": [
        "As with all models, it is possible to **overfit** our Decision Tree\n",
        "Classifier by splitting the data into too many disconnected rectangles.\n",
        "We could theoretically get 100% accuracy this way, but drawing a\n",
        "rectangle for each individual data point. There are many ways to try to\n",
        "avoid overfitting. In this case, we can limit the **depth** of the\n",
        "decision tree to 2. This means we’ll be drawing 4 rectangles, the same\n",
        "as the number of categories we have.\n",
        "\n",
        "Alternative methods of limiting overfitting include:\n",
        "\n",
        "-   Splitting the data into test and train groups – the overfitted model\n",
        "    is unlikely to fit data it hasn’t seen. In this case, we have\n",
        "    relatively little data compared to the number of categories, and so\n",
        "    it is hard to evaluate a test/train split.\n",
        "-   Pruning the decision tree to maximize accuracy while minimizing\n",
        "    complexity. `scikit-learn` will do this for you automatically. You\n",
        "    can also fit the model at a variety of depths, and look for\n",
        "    diminishing accuracy returns.\n",
        "\n",
        "<link rel=\"stylesheet\" type=\"text/css\" href=\"./assets/styles.css\"><div class=\"callout callout-style-default callout-titled callout-task\"><div class=\"callout-header\"><div class=\"callout-icon-container\"><i class=\"callout-icon\"></i></div><div class=\"callout-title-container flex-fill\">Try It: Fit a tree model</div></div><div class=\"callout-body-container callout-body\"><p>Replace <code>predictor_variables</code> and\n",
        "<code>observed_values</code> with the values you want to use in your\n",
        "model.</p></div></div>"
      ]
    },
    {
      "cell_type": "code",
      "execution_count": 11,
      "id": "10c162b6",
      "metadata": {
        "highlight": true
      },
      "outputs": [
        {
          "data": {
            "image/png": "[encoded data removed]",
            "text/plain": [
              "<Figure size 640x480 with 1 Axes>"
            ]
          },
          "metadata": {},
          "output_type": "display_data"
        }
      ],
      "source": [
        "# Convert categories to numbers\n",
        "denver_redlining_ndvi_gdf['grade_codes'] = (\n",
        "    denver_redlining_ndvi_gdf.grade.cat.codes\n",
        ")\n",
        "\n",
        "# Fit model\n",
        "tree_classifier = DecisionTreeClassifier(max_depth=2).fit(\n",
        "    denver_redlining_ndvi_gdf[['mean']],\n",
        "    denver_redlining_ndvi_gdf.grade_codes,\n",
        ")\n",
        "\n",
        "# Visualize tree\n",
        "plot_tree(tree_classifier)\n",
        "plt.show()"
      ]
    },
    {
      "cell_type": "markdown",
      "id": "d28d080d",
      "metadata": {},
      "source": [
        "<link rel=\"stylesheet\" type=\"text/css\" href=\"./assets/styles.css\"><div class=\"callout callout-style-default callout-titled callout-task\"><div class=\"callout-header\"><div class=\"callout-icon-container\"><i class=\"callout-icon\"></i></div><div class=\"callout-title-container flex-fill\">Try It: Plot model results</div></div><div class=\"callout-body-container callout-body\"><p>Create a plot of the results by:</p>\n",
        "<ol type=\"1\">\n",
        "<li>Predict grades for each region using the <code>.predict()</code>\n",
        "method of your <code>DecisionTreeClassifier</code>.</li>\n",
        "<li>Subtract the actual grades from the predicted grades</li>\n",
        "<li>Plot the calculated prediction errors as a chloropleth.</li>\n",
        "</ol></div></div>"
      ]
    },
    {
      "cell_type": "code",
      "execution_count": 12,
      "id": "bd2a3b58",
      "metadata": {},
      "outputs": [
        {
          "data": {},
          "metadata": {},
          "output_type": "display_data"
        },
        {
          "data": {
            "application/vnd.holoviews_exec.v0+json": "",
            "text/html": [
              "<div id='p1401'>\n",
              "  <div id=\"a6f7f9cb-5f52-48a1-82e2-d621f6392e2a\" data-root-id=\"p1401\" style=\"display: contents;\"></div>\n",
              "</div>\n",
              "<script type=\"application/javascript\">(function(root) {\n",
              "  var docs_json = {\"2ecf2d46-539c-4814-b321-c9fa057a2a50\":{\"version\":\"3.5.2\",\"title\":\"Bokeh Application\",\"roots\":[{\"type\":\"object\",\"name\":\"Row\",\"id\":\"p1401\",\"attributes\":{\"name\":\"Row02011\",\"tags\":[\"embedded\"],\"stylesheets\":[\"\\n:host(.pn-loading):before, .pn-loading:before {\\n  background-color: #c3c3c3;\\n  mask-size: auto calc(min(50%, 400px));\\n  -webkit-mask-size: auto calc(min(50%, 400px));\\n}\",{\"type\":\"object\",\"name\":\"ImportedStyleSheet\",\"id\":\"p1404\",\"attributes\":{\"url\":\"https://cdn.holoviz.org/panel/1.5.2/dist/css/loading.css\"}},{\"type\":\"object\",\"name\":\"ImportedStyleSheet\",\"id\":\"p1484\",\"attributes\":{\"url\":\"https://cdn.holoviz.org/panel/1.5.2/dist/css/listpanel.css\"}},{\"type\":\"object\",\"name\":\"ImportedStyleSheet\",\"id\":\"p1402\",\"attributes\":{\"url\":\"https://cdn.holoviz.org/panel/1.5.2/dist/bundled/theme/default.css\"}},{\"type\":\"object\",\"name\":\"ImportedStyleSheet\",\"id\":\"p1403\",\"attributes\":{\"url\":\"https://cdn.holoviz.org/panel/1.5.2/dist/bundled/theme/native.css\"}}],\"margin\":0,\"sizing_mode\":\"stretch_width\",\"align\":\"start\",\"children\":[{\"type\":\"object\",\"name\":\"Spacer\",\"id\":\"p1405\",\"attributes\":{\"name\":\"HSpacer02018\",\"stylesheets\":[\"\\n:host(.pn-loading):before, .pn-loading:before {\\n  background-color: #c3c3c3;\\n  mask-size: auto calc(min(50%, 400px));\\n  -webkit-mask-size: auto calc(min(50%, 400px));\\n}\",{\"id\":\"p1404\"},{\"id\":\"p1402\"},{\"id\":\"p1403\"}],\"margin\":0,\"sizing_mode\":\"stretch_width\",\"align\":\"start\"}},{\"type\":\"object\",\"name\":\"Figure\",\"id\":\"p1432\",\"attributes\":{\"width\":null,\"height\":null,\"margin\":[5,10],\"sizing_mode\":\"fixed\",\"align\":\"start\",\"x_range\":{\"type\":\"object\",\"name\":\"Range1d\",\"id\":\"p1411\",\"attributes\":{\"tags\":[[[\"Longitude\",null]],[]],\"start\":-11697450.645403847,\"end\":-11673755.846510537,\"reset_start\":-11697450.645403847,\"reset_end\":-11673755.846510537,\"min_interval\":5}},\"y_range\":{\"type\":\"object\",\"name\":\"Range1d\",\"id\":\"p1412\",\"attributes\":{\"tags\":[[[\"Latitude\",null]],{\"type\":\"map\",\"entries\":[[\"invert_yaxis\",false],[\"autorange\",false]]}],\"start\":4810575.9097079225,\"end\":4834670.644799663,\"reset_start\":4810575.9097079225,\"reset_end\":4834670.644799663,\"min_interval\":5}},\"x_scale\":{\"type\":\"object\",\"name\":\"LinearScale\",\"id\":\"p1442\"},\"y_scale\":{\"type\":\"object\",\"name\":\"LinearScale\",\"id\":\"p1443\"},\"title\":{\"type\":\"object\",\"name\":\"Title\",\"id\":\"p1435\",\"attributes\":{\"text\":\"Denver Calculated Prediction Errors\",\"text_color\":\"black\",\"text_font_size\":\"12pt\"}},\"renderers\":[{\"type\":\"object\",\"name\":\"GlyphRenderer\",\"id\":\"p1469\",\"attributes\":{\"data_source\":{\"type\":\"object\",\"name\":\"ColumnDataSource\",\"id\":\"p1458\",\"attributes\":{\"selected\":{\"type\":\"object\",\"name\":\"Selection\",\"id\":\"p1459\",\"attributes\":{\"indices\":[],\"line_indices\":[]}},\"selection_policy\":{\"type\":\"object\",\"name\":\"UnionRenderers\",\"id\":\"p1460\"},\"data\":{\"type\":\"map\",\"entries\":[[\"xs\",[[[{\"type\":\"ndarray\",\"array\":{\"type\":\"bytes\",\"data\":\"hiEyF05GZsHNDmt7T0ZmwUlgFwOMRmbB7719wopGZsEw3SIMkEZmwTcPlVqfRmbBkLEum6BGZsFZkgwGoUZmwS6MpsyuRmbBlXOXBPdGZsEkeqRoM0dmwbU7YD40R2bBd+R3XFVHZsFTerajVUdmwUQQfghnR2bBdZP7HHRHZsHmmfyumUdmwXlCApKYR2bB1gMpeHFHZsEsEPXqVUdmwSwQ9epVR2bBCjwBAHNHZsHAZ36Oc0dmwd2fzfhjR2bBhjtOAxJHZsFh0YxKEkdmwalHhYbORmbBX3MCFc9GZsHLU7wJi0ZmwTmSADSKRmbB\"},\"shape\":[30],\"dtype\":\"float64\",\"order\":\"little\"}]],[[{\"type\":\"ndarray\",\"array\":{\"type\":\"bytes\",\"data\":\"mfCu3xFHZsEX/QnZEkdmwbU7YD40R2bBmTUAbk1HZsGeSOUWhUdmwVtVWLSzR2bBIzY2H7RHZsGVspSUYkdmwQTx2L5hR2bBiQMLazhHZsFh0YxKEkdmwZnwrt8RR2bB\"},\"shape\":[12],\"dtype\":\"float64\",\"order\":\"little\"}]],[[{\"type\":\"ndarray\",\"array\":{\"type\":\"bytes\",\"data\":\"sdDHEo9GZsGekqde1EZmwUTwDR7TRmbBcNfmse1GZsFluNZXEEdmwb5acJgRR2bBRKyf1FNHZsFErJ/UU0dmwbocVk1iR2bB8jt44mFHZsG15I8Ag0dmwUamS9aDR2bBeI2nHqRHZsGurMmzo0dmwcV6YzerR2bByvd6EsZHZsHK93oSxkdmwfve1lrmR2bBM/747+VHZsG80pMFE0hmwQanFncSSGbBKxHYLxJIZsGZTxxaEUhmwa0EfTYRSGbBdOVaoRFIZsFPe5noEUhmwQcQZmQ5R2bBNw+VWp9GZsEw3SIMkEZmwbHQxxKPRmbB\"},\"shape\":[30],\"dtype\":\"float64\",\"order\":\"little\"},{\"type\":\"ndarray\",\"array\":{\"type\":\"bytes\",\"data\":\"fNjPX7VHZsGhQpEYtUdmwaYjhyfjR2bBJDDiIORHZsF82M9ftUdmwQ==\"},\"shape\":[5],\"dtype\":\"float64\",\"order\":\"little\"}]],[[{\"type\":\"ndarray\",\"array\":{\"type\":\"bytes\",\"data\":\"sa4S8iFJZsGxrhLyIUlmwc20csIISWbBkFB86sdIZsFUBb+5jkhmwR6hS5ZTSGbBPvgnphtIZsF05VqhEUhmwa0EfTYRSGbBxZrTIT9IZsFUBb+5jkhmwdSIWtvUSGbBcyU7djlJZsFuH2TDY0lmwV+1Kyh1SWbB38GGIXZJZsGWPoDvV0lmwZY+gO9XSWbBeo/wXCJJZsGxrhLyIUlmwQ==\"},\"shape\":[20],\"dtype\":\"float64\",\"order\":\"little\"}]],[[{\"type\":\"ndarray\",\"array\":{\"type\":\"bytes\",\"data\":\"Ch+9mBlJZsGwfCNYGElmwWrUO4JSSWbBSVHE1lBJZsEOBgemF0lmwWuP6vMWSWbBkPmrrBZJZsFrj+rzFklmwRQZ7E5PSWbBb1FTXW1JZsHVOESVtUlmwY99+sq9SWbBMD+8CcpJZsHYzhFj0klmwQ7uM/jRSWbBVyzpm7RJZsERP7A3s0lmwRGWgHVkSWbBbh9kw2NJZsFGiQdvKklmweW0+98ZSWbBCh+9mBlJZsE=\"},\"shape\":[22],\"dtype\":\"float64\",\"order\":\"little\"}]],[[{\"type\":\"ndarray\",\"array\":{\"type\":\"bytes\",\"data\":\"uKGHsMVIZsHhVnGq1khmwTdEsHfjSGbBcl1+DhNJZsGofKCjEklmwTo+XHkTSWbB3bR4KxRJZsGYC64QkkhmwYVWTTSSSGbBgAsl84BIZsG9EZGVfkhmwQ7mlruDSGbBRgW5UINIZsHxrUdRk0hmwfGtR1GTSGbBW+a0yLxIZsE=\"},\"shape\":[16],\"dtype\":\"float64\",\"order\":\"little\"}]],[[{\"type\":\"ndarray\",\"array\":{\"type\":\"bytes\",\"data\":\"3Z/N+GNHZsE2Qmc5ZUdmwbQp4Y6+R2bB3VULsRRIZsHuCmyNFEhmwQLAzGkUSGbBYDZOw+FHZsFgNk7D4UdmwSHlud/SR2bBfG6dLdJHZsE065b7s0dmwX+/GW2zR2bBVHRipYVHZsFUdGKlhUdmwRgKGM90R2bBvIA0gXVHZsFNYX38TUdmwXPLPrVNR2bB7kcg3wFHZsGRvjyRAkdmwRf9CdkSR2bBUBwsbhJHZsHvNL7qz0ZmwV9zAhXPRmbBqUeFhs5GZsFh0YxKEkdmwYY7TgMSR2bB3Z/N+GNHZsE=\"},\"shape\":[28],\"dtype\":\"float64\",\"order\":\"little\"}]],[[{\"type\":\"ndarray\",\"array\":{\"type\":\"bytes\",\"data\":\"fLTVCG9NZsEKfOXcP01mwYxviuM+TWbBvhGVnSNNZsG+EZWdI01mwYxviuM+TWbB1kMNVT5NZsF42pnx0k1mwcOuHGPSTWbBstP3nW5NZsE=\"},\"shape\":[10],\"dtype\":\"float64\",\"order\":\"little\"}]],[[{\"type\":\"ndarray\",\"array\":{\"type\":\"bytes\",\"data\":\"3Z/N+GNHZsHAZ36Oc0dmwQo8AQBzR2bBLBD16lVHZsEsEPXqVUdmwdYDKXhxR2bBeUICkphHZsHmmfyumUdmwdZ0FaLmR2bBhLNxcBNIZsGEs3FwE0hmwe4KbI0USGbB3VULsRRIZsG0KeGOvkdmwTZCZzllR2bB3Z/N+GNHZsE=\"},\"shape\":[16],\"dtype\":\"float64\",\"order\":\"little\"}]],[[{\"type\":\"ndarray\",\"array\":{\"type\":\"bytes\",\"data\":\"kLEum6BGZsFxxIS9u0ZmwTAcIJz7RmbBmfCu3xFHZsFh0YxKEkdmwYkDC2s4R2bBBPHYvmFHZsGVspSUYkdmwSM2Nh+0R2bBW1VYtLNHZsHBPEns+0dmwU97megRSGbBvNKTBRNIZsGs0o2cB0hmwazSjZwHSGbByqCq1BRIZsGEs3FwE0hmwdZ0FaLmR2bB5pn8rplHZsF1k/scdEdmwUQQfghnR2bBU3q2o1VHZsF35HdcVUdmwbU7YD40R2bBJHqkaDNHZsGVc5cE90ZmwS6MpsyuRmbBWZIMBqFGZsE=\"},\"shape\":[28],\"dtype\":\"float64\",\"order\":\"little\"}]],[[{\"type\":\"ndarray\",\"array\":{\"type\":\"bytes\",\"data\":\"59XNu8pFZsH+cXilyEVmwaNGH40MRmbBANAC2wtGZsGx0McSj0ZmwTDdIgyQRmbB7719wopGZsFJYBcDjEZmwc0Oa3tPRmbBhiEyF05GZsFFbL//K0ZmweP7kaQuRmbB\"},\"shape\":[12],\"dtype\":\"float64\",\"order\":\"little\"}]],[[{\"type\":\"ndarray\",\"array\":{\"type\":\"bytes\",\"data\":\"rQR9NhFIZsGZTxxaEUhmwSVQUgt4SGbBRokHbypJZsFuH2TDY0lmwW4fZMNjSWbBcyU7djlJZsHUiFrb1EhmwVQFv7mOSGbBxZrTIT9IZsE=\"},\"shape\":[10],\"dtype\":\"float64\",\"order\":\"little\"}],[{\"type\":\"ndarray\",\"array\":{\"type\":\"bytes\",\"data\":\"F1x3UxJIZsFPe5noEUhmwXTlWqERSGbBPvgnphtIZsEeoUuWU0hmwVQFv7mOSGbBkFB86sdIZsHNtHLCCElmwbGuEvIhSWbBsa4S8iFJZsGpBWB7zUhmwakFYHvNSGbBI/mBzcZIZsEREjJXvUhmwZhvjESlSGbBRzeo6oxIZsGIQ+s/YEhmwRdcd1MSSGbB\"},\"shape\":[18],\"dtype\":\"float64\",\"order\":\"little\"}]],[[{\"type\":\"ndarray\",\"array\":{\"type\":\"bytes\",\"data\":\"mU8cWhFIZsErEdgvEkhmwb02cjkmSGbBPioXQCVIZsEKH72YGUlmweW0+98ZSWbBRokHbypJZsElUFILeEhmwQ==\"},\"shape\":[8],\"dtype\":\"float64\",\"order\":\"little\"}]],[[{\"type\":\"ndarray\",\"array\":{\"type\":\"bytes\",\"data\":\"38GGIXZJZsFftSsodUlmwW4fZMNjSWbBbh9kw2NJZsERloB1ZElmwRE/sDezSWbBVyzpm7RJZsEO7jP40UlmwdjOEWPSSWbBTg3ZQddJZsG0wtrfFUpmwdssnJgVSmbBrxPUavFJZsFSivAc8klmwfcADc/ySWbBNqlx8LJJZsERP7A3s0lmwfUl7nKaSWbBTsiHs5tJZsHfwYYhdklmwQ==\"},\"shape\":[20],\"dtype\":\"float64\",\"order\":\"little\"}]],[[{\"type\":\"ndarray\",\"array\":{\"type\":\"bytes\",\"data\":\"3bR4KxRJZsE6Plx5E0lmwah8oKMSSWbBcl1+DhNJZsE3RLB340hmweFWcarWSGbBuKGHsMVIZsFf/+1vxEhmwXtKn87mSGbB6Yjj+OVIZsFYxycj5UhmwXJdfg4TSWbBClGsMiNJZsGxrhLyIUlmwY6oL201SWbBVokN2DVJZsHhEgNhV0lmwZNXNuJZSWbBzHAEeYlJZsGUUeLjiUlmwfUl7nKaSWbBDcKYXJhJZsF7AN2Gl0lmwZ99ADTJSWbBQvQc5slJZsH4H5p0yklmwXuJnF5SSWbBW8HTJBVJZsHsgo/6FUlmwUYlKTsXSWbB\"},\"shape\":[30],\"dtype\":\"float64\",\"order\":\"little\"}]],[[{\"type\":\"ndarray\",\"array\":{\"type\":\"bytes\",\"data\":\"/fOBjZZJZsGs5zjPt0lmwXbIFjq4SWbBg9t+l/VJZsEqOeVW9ElmwYJFscnYSWbByDLqLdpJZsE/+nDkmUlmwQ==\"},\"shape\":[8],\"dtype\":\"float64\",\"order\":\"little\"}]],[[{\"type\":\"ndarray\",\"array\":{\"type\":\"bytes\",\"data\":\"Fw1ASgpFZsHwon6RCkVmwZUZm0MLRWbBXp1UcopFZsHcqa9ri0VmwefVzbvKRWbB4/uRpC5GZsFFbL//K0ZmwUEBJ9SGRWbB9yykYodFZsEXDUBKCkVmwRcNQEoKRWbB\"},\"shape\":[12],\"dtype\":\"float64\",\"order\":\"little\"}]],[[{\"type\":\"ndarray\",\"array\":{\"type\":\"bytes\",\"data\":\"FBR7lTtKZsHtqbncO0pmwSXJ23E7SmbBNKpUNW9KZsHEaxALcEpmwQS9pO5+SmbBc/voGH5KZsHbB7v0bUpmwaPomF9uSmbBEC0xiD1KZsFITFMdPUpmwX0a+XJbSmbBeqSbj9JKZsHEeB4B0kpmwchfaA7QSmbBz5cuW69KZsFgWeowsEpmwVYneOKgSmbB6OgzuKFKZsGzfmyWlkpmwZL79OqUSmbBejOvZV1KZsFBFI3QXUpmweC2wWmSSmbBcXh9P5NKZsEBOjkVlEpmwVrc0lWVSmbB652OK5ZKZsHra5+RjEpmwT7DEJF8SmbBQnhrBHFKZsH/DZ55Wkpmwd6KJs5YSmbBmoQ3d1VKZsEY+8SiOUpmwfGQA+o5SmbB4NuiDTpKZsEY+8SiOUpmwQ==\"},\"shape\":[38],\"dtype\":\"float64\",\"order\":\"little\"}],[{\"type\":\"ndarray\",\"array\":{\"type\":\"bytes\",\"data\":\"dQj3DuBKZsEA42jX4kpmwXTWB3XWSmbBdNYHddZKZsHSfnhorUpmwQmemv2sSmbBrniV48BKZsHml7d4wEpmwfX7mxXfSmbBdQj3DuBKZsE=\"},\"shape\":[10],\"dtype\":\"float64\",\"order\":\"little\"}]],[[{\"type\":\"ndarray\",\"array\":{\"type\":\"bytes\",\"data\":\"QvQc5slJZsHxkAPqOUpmwRj7xKI5SmbBmoQ3d1VKZsHeiibOWEpmwf8NnnlaSmbBQnhrBHFKZsE+wxCRfEpmwetrn5GMSmbBh8/WmlVKZsE9l3X1QkpmwT2XdfVCSmbBUorwHPJJZsGvE9Rq8UlmwdssnJgVSmbBtMLa3xVKZsFODdlB10lmwd/OlBfYSWbB+B+adMpJZsFC9BzmyUlmwQ==\"},\"shape\":[20],\"dtype\":\"float64\",\"order\":\"little\"}]],[[{\"type\":\"ndarray\",\"array\":{\"type\":\"bytes\",\"data\":\"gkWxydhJZsEqOeVW9ElmwYPbfpf1SWbBdsgWOrhJZsGs5zjPt0lmwf3zgY2WSWbBEfpeqXdJZsFKGYE+d0lmwRgyJfZWSWbB8sdjPVdJZsEUFHuVO0pmwRj7xKI5SmbB4NuiDTpKZsHxkAPqOUpmwUL0HObJSWbBn30ANMlJZsE=\"},\"shape\":[16],\"dtype\":\"float64\",\"order\":\"little\"}]],[[{\"type\":\"ndarray\",\"array\":{\"type\":\"bytes\",\"data\":\"hBLf6hJJZsGXxz/HEklmwQFSDMPZSWbBOHEuWNlJZsHtqbncO0pmwRQUe5U7SmbB8sdjPVdJZsHhEgNhV0lmwV+oHTITSWbBhBLf6hJJZsE=\"},\"shape\":[10],\"dtype\":\"float64\",\"order\":\"little\"}]],[[{\"type\":\"ndarray\",\"array\":{\"type\":\"bytes\",\"data\":\"X6gdMhNJZsFyXX4OE0lmwVjHJyPlSGbB6Yjj+OVIZsF7Sp/O5khmwV//7W/ESGbBXAVCbpRIZsESMb/8lEhmwaTyetKVSGbB2RfxZWVIZsGTKrgBZEhmwbJJUXlSSGbBfxF58VBIZsFc+DN4MkhmwfGgOVsxSGbBM7qKpmZIZsGMwAIbe0hmwYQS3+oSSWbB\"},\"shape\":[18],\"dtype\":\"float64\",\"order\":\"little\"}]],[[{\"type\":\"ndarray\",\"array\":{\"type\":\"bytes\",\"data\":\"ii1h0JhKZsFmw58XmUpmwVD1BZSRSmbBG70tDJBKZsHwo2Xea0pmwSknZqd+SmbB31LjNX9KZsFGtoVPIEpmwULPO0IiSmbBZkxf71NKZsGLX1BqokpmwRA6P36fSmbBSTSAb/dKZsEU/Kfn9UpmwSAVZEMDS2bBVU08ywRLZsHT72SSIktmwZ+3jAohS2bBWDSG2AJLZsGiCAlKAktmwQ==\"},\"shape\":[20],\"dtype\":\"float64\",\"order\":\"little\"}],[{\"type\":\"ndarray\",\"array\":{\"type\":\"bytes\",\"data\":\"eqSbj9JKZsF9GvlyW0pmwX0a+XJbSmbBzJB0Yx1KZsFKnc9cHkpmwbBS0fpcSmbBejOvZV1KZsGnM8Ggf0pmwV5fPi+ASmbBG70tDJBKZsFBJ+/Ej0pmwVLcT6GPSmbB4MPPX/RKZsEJFdsl8kpmwTFm5uvvSmbBeqSbj9JKZsE=\"},\"shape\":[16],\"dtype\":\"float64\",\"order\":\"little\"}]],[[{\"type\":\"ndarray\",\"array\":{\"type\":\"bytes\",\"data\":\"ptIO8KZMZsFvs+xap0xmwaLrxOKoTGbBXHXMpuxMZsFvKi2D7ExmwbHmWZKgTWbBseZZkqBNZsGhOLOtMk5mwaE4s60yTmbBfLTVCG9NZsGy0/edbk1mwcOuHGPSTWbBeNqZ8dJNZsHWQw1VPk1mwYxviuM+TWbBvhGVnSNNZsG+EZWdI01mwYxviuM+TWbBCnzl3D9NZsGm0g7wpkxmwQ==\"},\"shape\":[20],\"dtype\":\"float64\",\"order\":\"little\"}]],[[{\"type\":\"ndarray\",\"array\":{\"type\":\"bytes\",\"data\":\"+tpM7jNOZsFXZDA8M05mwSq2fYWuTmbBKrZ9ha5OZsFZcT4ylU5mwZCQYMeUTmbBfM7x9DJOZsH62kzuM05mwQ==\"},\"shape\":[8],\"dtype\":\"float64\",\"order\":\"little\"}]],[[{\"type\":\"ndarray\",\"array\":{\"type\":\"bytes\",\"data\":\"5vGzOaxMZsFDe5eHq0xmwX1PFJCfTGbBfU8UkJ9MZsFKFzwInkxmwTN7kR6gTGbBlB2uE6dMZsGm0g7wpkxmwQp85dw/TWbBjG+K4z5NZsFwNzt5Tk1mwTcYGeROTWbBO0S0f4hNZsEd2nV7jk1mwbWbtAWVTWbBjHyY2aBNZsGMfJjZoE1mwcG0cGGiTWbBLgYXgNNNZsEuBheA001mwfraTO4zTmbBfM7x9DJOZsGMnAjENE5mwf6Pp2EoTmbB1QytASFOZsFo/3Qsb01mwR8r8rpvTWbBI1aqEe1MZsHrNoh87UxmwSc99B7rTGbBwrONHOZMZsGAe68r2UxmwSPA3EPQTGbBD9mMzcZMZsH6CvNJv0xmwe7xNu6xTGbBwYfygKxMZsHm8bM5rExmwQ==\"},\"shape\":[38],\"dtype\":\"float64\",\"order\":\"little\"},{\"type\":\"ndarray\",\"array\":{\"type\":\"bytes\",\"data\":\"tLsk8ChOZsFq56F+KU5mweR25ZwPTmbBaFHUsAxOZsGMfJjZoE1mwUePX3WfTWbB6aGd84xNZsHtiOcAi01mwYXg81iuTWbBzc0sva9NZsG0uyTwKE5mwQ==\"},\"shape\":[11],\"dtype\":\"float64\",\"order\":\"little\"}]],[[{\"type\":\"ndarray\",\"array\":{\"type\":\"bytes\",\"data\":\"PleVIBtJZsF2dre1GklmwWy7hY9QSWbByURp3U9JZsEi5wIeUUlmwc2PkR5hSWbBqCXQZWFJZsFyBq7QYUlmwamujz0cSWbBiCsYkhpJZsGIKxiSGklmwT5XlSAbSWbB\"},\"shape\":[12],\"dtype\":\"float64\",\"order\":\"little\"}]],[[{\"type\":\"ndarray\",\"array\":{\"type\":\"bytes\",\"data\":\"Ge3TZxtJZsH0ghKvG0lmwb+Pi7VVSWbBsM6C3LVJZsFrqQbg2klmwe2cq+bZSWbBXdvvENlJZsH984GNlklmwSJeQ0aWSWbBWwYls1BJZsFsu4WPUElmwXZ2t7UaSWbB\"},\"shape\":[12],\"dtype\":\"float64\",\"order\":\"little\"}]],[[{\"type\":\"ndarray\",\"array\":{\"type\":\"bytes\",\"data\":\"hLNxcBNIZsHKoKrUFEhmwazSjZwHSGbBrNKNnAdIZsG80pMFE0hmwU97megRSGbBF1x3UxJIZsGIQ+s/YEhmwUc3qOqMSGbBmG+MRKVIZsEREjJXvUhmwSP5gc3GSGbBqQVge81IZsFCx54F1EhmwULHngXUSGbBY8FW2RpJZsH0ghKvG0lmwRnt02cbSWbBc+Y95s1IZsGEs3FwE0hmwQ==\"},\"shape\":[20],\"dtype\":\"float64\",\"order\":\"little\"}]],[[{\"type\":\"ndarray\",\"array\":{\"type\":\"bytes\",\"data\":\"7Zyr5tlJZsFrqQbg2klmwaDh3mfcSWbBoqmbzwJKZsEhsKLKM0pmwUFGfGpnSmbB1+6BTWZKZsESsJxhKEpmwQ==\"},\"shape\":[8],\"dtype\":\"float64\",\"order\":\"little\"}]],[[{\"type\":\"ndarray\",\"array\":{\"type\":\"bytes\",\"data\":\"Y8FW2RpJZsGDiR8TWElmwaQMl75ZSWbBCdtOT5pJZsH1Je5ymklmwRE/sDezSWbBNqlx8LJJZsH3AA3P8klmwVKK8BzySWbBPZd19UJKZsE9l3X1QkpmwYfP1ppVSmbBuwevIldKZsFrhCU8M0pmwSGwosozSmbBoqmbzwJKZsGg4d5n3ElmwWupBuDaSWbBsM6C3LVJZsG/j4u1VUlmwfSCEq8bSWbBY8FW2RpJZsE=\"},\"shape\":[22],\"dtype\":\"float64\",\"order\":\"little\"}]],[[{\"type\":\"ndarray\",\"array\":{\"type\":\"bytes\",\"data\":\"IbCiyjNKZsFrhCU8M0pmwbsHryJXSmbBh8/WmlVKZsHra5+RjEpmwVqq47uLSmbB5LyYHGhKZsFBRnxqZ0pmwQ==\"},\"shape\":[8],\"dtype\":\"float64\",\"order\":\"little\"}]],[[{\"type\":\"ndarray\",\"array\":{\"type\":\"bytes\",\"data\":\"KxHYLxJIZsEGpxZ3EkhmwSqoiELrSGbBa4/q8xZJZsEOBgemF0lmwUlRxNZQSWbBatQ7glJJZsGwfCNYGElmwQofvZgZSWbBPioXQCVIZsG9NnI5JkhmwSsR2C8SSGbB\"},\"shape\":[12],\"dtype\":\"float64\",\"order\":\"little\"}]],[[{\"type\":\"ndarray\",\"array\":{\"type\":\"bytes\",\"data\":\"cgau0GFJZsGoJdBlYUlmwdPauV9ySWbBumTTXthJZsFODdlB10lmwaPIKHXaSWbBXdvvENlJZsHtnKvm2UlmwRKwnGEoSmbB1+6BTWZKZsHEnf+keUpmwcSd/6R5SmbBXsMcY5NKZsFiqmZwkUpmwRbJ1QgwSmbBOHEuWNlJZsEW7ras10lmwU9eVYG4SWbBJkWNU5RJZsECyGmmYklmwQ==\"},\"shape\":[20],\"dtype\":\"float64\",\"order\":\"little\"}]],[[{\"type\":\"ndarray\",\"array\":{\"type\":\"bytes\",\"data\":\"qCXQZWFJZsHNj5EeYUlmwSLnAh5RSWbByURp3U9JZsFsu4WPUElmwVsGJbNQSWbBIl5DRpZJZsH984GNlklmwV3b7xDZSWbBo8goddpJZsFODdlB10lmwbpk017YSWbB09q5X3JJZsGoJdBlYUlmwQ==\"},\"shape\":[14],\"dtype\":\"float64\",\"order\":\"little\"}]],[[{\"type\":\"ndarray\",\"array\":{\"type\":\"bytes\",\"data\":\"BqcWdxJIZsG80pMFE0hmweE8Vb4SSGbBxjCh71tIZsEiMcVloEhmwWge/smhSGbBkPmrrBZJZsFrj+rzFklmwSqoiELrSGbBBqcWdxJIZsE=\"},\"shape\":[10],\"dtype\":\"float64\",\"order\":\"little\"}]],[[{\"type\":\"ndarray\",\"array\":{\"type\":\"bytes\",\"data\":\"6+/trzNLZsEfKMY3NUtmwVFBERpfS2bBUUERGl9LZsGtmAXOVEtmwRzXSfhTS2bBI3PueEZLZsGlNKTlO0tmwRxBfCo3S2bBHEF8KjdLZsFMkgqlOktmwZlN1yM4S2bBdeMVazhLZsFp/EipNEtmwQ==\"},\"shape\":[14],\"dtype\":\"float64\",\"order\":\"little\"}],[{\"type\":\"ndarray\",\"array\":{\"type\":\"bytes\",\"data\":\"6OgzuKFKZsFWJ3jioEpmwWBZ6jCwSmbBz5cuW69KZsHIX2gO0EpmwcR4HgHSSmbBcSGtAeJKZsFxIa0B4kpmwQ8owM4pS2bBik3RuixLZsGKTdG6LEtmwSndo18vS2bB3wgh7i9LZsFOR2UYL0tmwSndo18vS2bBs9DLGjRLZsFaLjLaMktmwU5sRrzWSmbB7DNc+bJKZsGw+wC9q0pmwb/JF4ytSmbB6OgzuKFKZsE=\"},\"shape\":[22],\"dtype\":\"float64\",\"order\":\"little\"}]],[[{\"type\":\"ndarray\",\"array\":{\"type\":\"bytes\",\"data\":\"STSAb/dKZsGGNJgTJUtmwdAIG4UkS2bB+Cc3sRhLZsFC/LkiGEtmwWRNQjQQS2bBVU08ywRLZsEgFWRDA0tmwRT8p+f1SmbBSTSAb/dKZsE=\"},\"shape\":[10],\"dtype\":\"float64\",\"order\":\"little\"}],[{\"type\":\"ndarray\",\"array\":{\"type\":\"bytes\",\"data\":\"0+9kkiJLZsHvbAWLTktmwe9sBYtOS2bBEDXOxItLZsH3bIg/VEtmwaIICUoCS2bBWDSG2AJLZsGft4wKIUtmwQ==\"},\"shape\":[8],\"dtype\":\"float64\",\"order\":\"little\"}],[{\"type\":\"ndarray\",\"array\":{\"type\":\"bytes\",\"data\":\"QSfvxI9KZsEbvS0MkEpmwV5fPi+ASmbBpzPBoH9KZsF6M69lXUpmwbBS0fpcSmbBSp3PXB5KZsFKnc9cHkpmwfCjZd5rSmbBG70tDJBKZsFQ9QWUkUpmwWbDnxeZSmbBii1h0JhKZsGxlyKJmEpmwQ==\"},\"shape\":[14],\"dtype\":\"float64\",\"order\":\"little\"}],[{\"type\":\"ndarray\",\"array\":{\"type\":\"bytes\",\"data\":\"4MPPX/RKZsFR/L+LI0tmwZ+3jAohS2bBCRXbJfJKZsE=\"},\"shape\":[4],\"dtype\":\"float64\",\"order\":\"little\"}]],[[{\"type\":\"ndarray\",\"array\":{\"type\":\"bytes\",\"data\":\"jDX+DOdLZsEhL4Avx0tmwaYJb0PES2bBDuRRhapLZsE/A/FlpEtmweRgVyWjS2bB/LewgGVLZsFgDyjpYEtmwS8ozKBAS2bB9wiqC0FLZsHkYFclo0tmwXUiE/ujS2bBM5NkzOVLZsGMNf4M50tmwQ==\"},\"shape\":[14],\"dtype\":\"float64\",\"order\":\"little\"}]],[[{\"type\":\"ndarray\",\"array\":{\"type\":\"bytes\",\"data\":\"0n54aK1KZsF01gd11kpmwXTWB3XWSmbBAONo1+JKZsF1CPcO4EpmwYYCqXkbS2bBr7eScyxLZsHFyn2Fb0tmwShU5Id0S2bBUwnOgYVLZsEc6qvshUtmwY9gtmNkS2bBZiINkphLZsHH9hghqUtmwShU5Id0S2bBmZIosnNLZsEOgHNRl0tmwUWfleaWS2bBE/2KLLJLZsF2D7EGcktmwR8oxjc1S2bBul9ipcRKZsFhvchkw0pmwZNf0x6oSmbBIDpF56pKZsHSfnhorUpmwQ==\"},\"shape\":[26],\"dtype\":\"float64\",\"order\":\"little\"}]],[[{\"type\":\"ndarray\",\"array\":{\"type\":\"bytes\",\"data\":\"jU8a+apMZsHOW11OfkxmwYj348E3TGbB9G1rhBBMZsFDKTgDDkxmwSxorHVoTGbBeDwv52dMZsHOgD7yJUxmwWEpRNUkTGbBYOXVi6VMZsE=\"},\"shape\":[10],\"dtype\":\"float64\",\"order\":\"little\"}]],[[{\"type\":\"ndarray\",\"array\":{\"type\":\"bytes\",\"data\":\"ouvE4qhMZsHWv742l0xmwSCUQaiWTGbBeZq5HKtMZsGNTxr5qkxmwWDl1YulTGbBN/M3QKdNZsHtHrXOp01mwZNqnN4wTmbBl1Hm6y5OZsEJRYWJIk5mwW6c/PEdTmbBg/mpS7BNZsEqVxALr01mwRo3mrcPTWbBGjeatw9NZsHIggR8nk1mwbHmWZKgTWbBseZZkqBNZsFvKi2D7ExmwVx1zKbsTGbBouvE4qhMZsE=\"},\"shape\":[22],\"dtype\":\"float64\",\"order\":\"little\"}]],[[{\"type\":\"ndarray\",\"array\":{\"type\":\"bytes\",\"data\":\"hk60/+hLZsFFn5XmlktmwUWfleaWS2bBTDs6Z4lLZsFEerRC70tmwa+fv8XmS2bBkXrSTyhMZsGRetJPKExmwRzS2D5ATGbBFARFJERMZsHGSHilRkxmwareOaFMTGbBiY2xj1RMZsGJjbGPVExmwW+z7FqnTGbBptIO8KZMZsGUHa4Tp0xmwTN7kR6gTGbBShc8CJ5MZsF9TxSQn0xmwX1PFJCfTGbBQ3uXh6tMZsHm8bM5rExmwYZOtP/oS2bB\"},\"shape\":[24],\"dtype\":\"float64\",\"order\":\"little\"},{\"type\":\"ndarray\",\"array\":{\"type\":\"bytes\",\"data\":\"OE95N2xMZsGlClKIgExmwdqmCESVTGbBkNKF0pVMZsFd6ymKdUxmwSqBYmhqTGbBOE95N2xMZsE=\"},\"shape\":[7],\"dtype\":\"float64\",\"order\":\"little\"}]]]],[\"ys\",[[[{\"type\":\"ndarray\",\"array\":{\"type\":\"bytes\",\"data\":\"QUcLwSJsUkEyu271NGtSQY6KKyYza1JBdn0VpoppUkHEe1tfi2lSQXZ9FaaKaVJBNdCdptxqUkHLfGK4LWtSQct8Yrgta1JBmprGRSxrUkFaa6WHL2tSQeJjD+BZa1JB4mMP4FlrUkHTBdZJiWtSQbnMvIuMa1JB23F1vIprUkHTBdZJiWtSQTs8Gpm7a1JBPZK7C71rUkE7PBqZu2tSQSTGApIPbFJBJMYCkg9sUkFXv7W6O2xSQQk0DF47bFJBv4i8jjlsUkG4vZiARWxSQWZ4RcdEbFJBzSkC5KJsUkHZmALOoWxSQaPHvPEgbFJB\"},\"shape\":[30],\"dtype\":\"float64\",\"order\":\"little\"}]],[[{\"type\":\"ndarray\",\"array\":{\"type\":\"bytes\",\"data\":\"EmhR7dtqUkFCupFWTWpSQYy4E99PalJB13ZdmFBqUkGMuBPfT2pSQbYhJclOalJBYvevU9RqUkFcy5R/1mpSQWcoTGfqalJBZyhMZ+pqUkEr9MzI5mpSQRJoUe3balJB\"},\"shape\":[12],\"dtype\":\"float64\",\"order\":\"little\"}]],[[{\"type\":\"ndarray\",\"array\":{\"type\":\"bytes\",\"data\":\"mrZ6yABpUkH9m1LZBWlSQWxDwd9caFJBY6eh9V1oUkESh2IhYGhSQf2bUtkFaVJB/ZtS2QVpUkGY+AT23GhSQZj4BPbcaFJB4qKSj61oUkHiopKPrWhSQYKl5HhkaFJBBRIEY2NoUkFDQkLTsmdSQUNCQtOyZ1JBQ0JC07JnUkG4jibrfGdSQduZ2hZ/Z1JB7/rUFLZnUkEgYPn+tGdSQT2LciIpaFJBzQJDN2FoUkH9E5aSBmlSQWzfMkA1aVJBssU8x11pUkGhf3JJimlSQcR7W1+LaVJBdn0VpoppUkHEe1tfi2lSQZq2esgAaVJB\"},\"shape\":[30],\"dtype\":\"float64\",\"order\":\"little\"},{\"type\":\"ndarray\",\"array\":{\"type\":\"bytes\",\"data\":\"XTjZPu9nUkFyhiNNYmhSQXKGI01iaFJBgg+bhe5nUkFdONk+72dSQQ==\"},\"shape\":[5],\"dtype\":\"float64\",\"order\":\"little\"}]],[[{\"type\":\"ndarray\",\"array\":{\"type\":\"bytes\",\"data\":\"rZdDeohpUkEUA/QIYWlSQRumaZZfaVJBFAP0CGFpUkHZNjnCYWlSQZ7pgYBeaVJBssU8x11pUkGyxTzHXWlSQWzfMkA1aVJBQ4TuhjRpUkFJb0QlOGlSQcZuGVY2aVJBxK/DtzJpUkEBWEwqNGlSQUOE7oY0aVJB8+srlYVpUkHz6yuVhWlSQXpizNy7aVJBrEFaT71pUkGtl0N6iGlSQQ==\"},\"shape\":[20],\"dtype\":\"float64\",\"order\":\"little\"}]],[[{\"type\":\"ndarray\",\"array\":{\"type\":\"bytes\",\"data\":\"QSUMjMJoUkFQgt//VWhSQVCC3/9VaFJBrBcn4jZoUkGsFyfiNmhSQY0Mr8AsaFJBdD41cg9oUkHAcTpF/GdSQcl1zWsCaFJBra9y4/9nUkGj746yAWhSQX4HdCsQaFJB6PgBHBxoUkEzhOAxHWhSQXU5v4FLaFJBuk9/yEpoUkHMV4HdgmhSQXvmn8eBaFJB0HgBOwJpUkFl/ykKBGlSQVItJqXlaFJBQSUMjMJoUkE=\"},\"shape\":[22],\"dtype\":\"float64\",\"order\":\"little\"}]],[[{\"type\":\"ndarray\",\"array\":{\"type\":\"bytes\",\"data\":\"Zr+SJvJkUkH3NVo882RSQS+LPOXuZFJBwFDLEPFkUkGtDnUxg2VSQWnpw9DsZVJB9sCi8fZlUkH8LG449mVSQTOmteI1ZlJBjIpQPzZmUkHSzYl56GVSQezBxvWdZVJBvqCQTG9lUkGupMIFcGVSQdodt+rqZFJBL4s85e5kUkE=\"},\"shape\":[16],\"dtype\":\"float64\",\"order\":\"little\"}]],[[{\"type\":\"ndarray\",\"array\":{\"type\":\"bytes\",\"data\":\"CTQMXjtsUkG2n7yfaW1SQe/ap0dlbVJB79qnR2VtUkHMh875qG1SQSnJ5yEpblJBKcnnISluUkHFAcll7W1SQXirbazsbVJBIcmIIMRtUkEhyYggxG1SQT2kgmyqbVJBPaSCbKptUkG108yIfW1SQYQMJkJ+bVJBwbfcJattUkHBt9wlq21SQaWoFAB7bVJB7Mi1MHltUkFx2KseJG1SQWLmWpElbVJBrn/QqudsUkF8JHrx5mxSQc0pAuSibFJBZnhFx0RsUkG4vZiARWxSQb+IvI45bFJBCTQMXjtsUkE=\"},\"shape\":[28],\"dtype\":\"float64\",\"order\":\"little\"}]],[[{\"type\":\"ndarray\",\"array\":{\"type\":\"bytes\",\"data\":\"7q9z5qFrUkHur3PmoWtSQfRrZdr5a1JBPhLHUfdrUkG85smfG2tSQbzmyZ8ba1JBwg0cReBqUkHNRGzB2WpSQbzmyZ8ba1JBwrQuLRprUkE=\"},\"shape\":[10],\"dtype\":\"float64\",\"order\":\"little\"}]],[[{\"type\":\"ndarray\",\"array\":{\"type\":\"bytes\",\"data\":\"CTQMXjtsUkFXv7W6O2xSQSTGApIPbFJBJMYCkg9sUkE7PBqZu2tSQT2Suwu9a1JBOzwambtrUkHTBdZJiWtSQbEqP8GGa1JB0wXWSYlrUkEaUSsXoGtSQeLmTTkhbVJB79qnR2VtUkHv2qdHZW1SQbafvJ9pbVJBCTQMXjtsUkE=\"},\"shape\":[16],\"dtype\":\"float64\",\"order\":\"little\"}]],[[{\"type\":\"ndarray\",\"array\":{\"type\":\"bytes\",\"data\":\"NdCdptxqUkESaFHt22pSQVzLlH/WalJBEmhR7dtqUkEr9MzI5mpSQWcoTGfqalJBZyhMZ+pqUkFcy5R/1mpSQWL3r1PUalJBtiElyU5qUkG2ISXJTmpSQeLGOsRSalJBchTbhpdqUkFyFNuGl2pSQYj1qo4Wa1JBQARGARhrUkHTBdZJiWtSQbEqP8GGa1JB0wXWSYlrUkHbcXW8imtSQbnMvIuMa1JB0wXWSYlrUkHiYw/gWWtSQeJjD+BZa1JBWmulhy9rUkGamsZFLGtSQct8Yrgta1JBy3xiuC1rUkE=\"},\"shape\":[28],\"dtype\":\"float64\",\"order\":\"little\"}]],[[{\"type\":\"ndarray\",\"array\":{\"type\":\"bytes\",\"data\":\"tlgHh3FqUkGkwKx+TWlSQRvOVOBJaVJBH7XLhv1oUkGatnrIAGlSQcR7W1+LaVJBdn0VpoppUkGOiismM2tSQTK7bvU0a1JBQUcLwSJsUkFBRwvBImxSQRzMF3FwalJB\"},\"shape\":[12],\"dtype\":\"float64\",\"order\":\"little\"}]],[[{\"type\":\"ndarray\",\"array\":{\"type\":\"bytes\",\"data\":\"bN8yQDVpUkH9E5aSBmlSQf0TlpIGaVJBZf8pCgRpUkHQeAE7AmlSQQFYTCo0aVJBxK/DtzJpUkHGbhlWNmlSQUlvRCU4aVJBQ4TuhjRpUkE=\"},\"shape\":[10],\"dtype\":\"float64\",\"order\":\"little\"}],[{\"type\":\"ndarray\",\"array\":{\"type\":\"bytes\",\"data\":\"sbWuKe5pUkGhf3JJimlSQbLFPMddaVJBssU8x11pUkGe6YGAXmlSQdk2OcJhaVJBFAP0CGFpUkEbpmmWX2lSQRQD9AhhaVJBrZdDeohpUkHFurcHh2lSQXReKrLwaVJBRmiGVfBpUkFxMSLD9WlSQXVNcmvxaVJBmS9Kl/NpUkGQOl6B8mlSQbG1rinuaVJB\"},\"shape\":[18],\"dtype\":\"float64\",\"order\":\"little\"}]],[[{\"type\":\"ndarray\",\"array\":{\"type\":\"bytes\",\"data\":\"/ROWkgZpUkHNAkM3YWhSQc0CQzdhaFJBoWfB7b5oUkFBJQyMwmhSQVItJqXlaFJBZf8pCgRpUkH9E5aSBmlSQQ==\"},\"shape\":[8],\"dtype\":\"float64\",\"order\":\"little\"}]],[[{\"type\":\"ndarray\",\"array\":{\"type\":\"bytes\",\"data\":\"8+srlYVpUkFDhO6GNGlSQQFYTCo0aVJB0HgBOwJpUkF75p/HgWhSQcxXgd2CaFJBuk9/yEpoUkF1Ob+BS2hSQTOE4DEdaFJBo++OsgFoUkHJdc1rAmhSQSr8+96TaFJBUrK6JZNoUkH9E5aSBmlSQZI9/cp/aVJBoHe3EX9pUkFtpnxbSWpSQR8X+9JGalJBv8UUq4ZpUkHz6yuVhWlSQQ==\"},\"shape\":[20],\"dtype\":\"float64\",\"order\":\"little\"}]],[[{\"type\":\"ndarray\",\"array\":{\"type\":\"bytes\",\"data\":\"9sCi8fZlUkFp6cPQ7GVSQa0OdTGDZVJBwFDLEPFkUkEvizzl7mRSQfc1WjzzZFJBZr+SJvJkUkGdFsf7q2RSQVYMUieuZFJBUeTSgvdjUkEzbk7KYWNSQaWMMpljY1JBXZXG9WNjUkFt3vyRiWNSQQYQuqeKY1JB1/i58qdjUkG4PfQzq2NSQcN5qLBsZFJBRtjkmmtkUkE1AA4XqWRSQZ6nAeaqZFJBhe/sTeZlUkEKNBaIeWZSQS/R6J16ZlJBDysGGwBnUkFPq7QsgGdSQU+rtCyAZ1JB25naFn9nUkE9PzCzamZSQeRJT7EmZlJB\"},\"shape\":[30],\"dtype\":\"float64\",\"order\":\"little\"}]],[[{\"type\":\"ndarray\",\"array\":{\"type\":\"bytes\",\"data\":\"K86qxGVjUkHPtIILZWNSQRBBm/MrZFJBw+seHy5kUkEv0eidemZSQS/R6J16ZlJBw3mosGxkUkFWxrfhamRSQQ==\"},\"shape\":[8],\"dtype\":\"float64\",\"order\":\"little\"}]],[[{\"type\":\"ndarray\",\"array\":{\"type\":\"bytes\",\"data\":\"VBb48YRrUkFeTEWwrmpSQeTRi9doalJBde8YOWVqUkHZulFAcmpSQbZYB4dxalJBHMwXcXBqUkFBRwvBImxSQXFeD6shbFJBFNWUJ+BrUkEB5qbl3GtSQVQW+PGEa1JB\"},\"shape\":[12],\"dtype\":\"float64\",\"order\":\"little\"}]],[[{\"type\":\"ndarray\",\"array\":{\"type\":\"bytes\",\"data\":\"09UJDKFiUkH7YOaYX2JSQV5WwoLeYVJBXlbCgt5hUkFG+OwQnWFSQUb47BCdYVJB4VGw5xphUkHH4QTSGWFSQZtzLXRZYVJB5PqHn1thUkFnPtsK1GBSQUagv1HTYFJBfhLfydBgUkHhUbDnGmFSQXMt5jsfYlJBlFQzJh5iUkH7YOaYX2JSQcoWm65gYlJB4t2/qaRiUkHi3b+ppGJSQcBQyxDxZFJBRzR1z+1kUkGEjbdBd2VSQcfOgld4ZVJBkWGeGB9mUkHyLGSjbGdSQdoAX8NOaFJBID/kV0dpUkENMBYsRWlSQZ11IoAnaVJBzvvDIRZpUkEhWwab7WhSQTOiQn2XaFJBzzJrvYloUkFwrwJ+YGhSQQ8rBhsAZ1JBsTNejFNmUkGU7aoif2RSQQ==\"},\"shape\":[38],\"dtype\":\"float64\",\"order\":\"little\"}],[{\"type\":\"ndarray\",\"array\":{\"type\":\"bytes\",\"data\":\"4bJSiYBnUkHDUrJcDGlSQaG3l3INaVJBG85U4ElpUkGyhbiIRWlSQc1IahcmZ1JBHODj1SJnUkEl+6J3AGdSQccn9kv+ZlJB4bJSiYBnUkE=\"},\"shape\":[10],\"dtype\":\"float64\",\"order\":\"little\"}]],[[{\"type\":\"ndarray\",\"array\":{\"type\":\"bytes\",\"data\":\"DysGGwBnUkEPKwYbAGdSQXCvAn5gaFJBzzJrvYloUkEzokJ9l2hSQSFbBpvtaFJBzvvDIRZpUkGddSKAJ2lSQQ0wFixFaVJBR+KMuUNpUkGtQEgAQ2lSQc+g5zAKaVJB/ROWkgZpUkFSsrolk2hSQSr8+96TaFJByXXNawJoUkGj746yAWhSQU+rtCyAZ1JBT6u0LIBnUkEPKwYbAGdSQQ==\"},\"shape\":[20],\"dtype\":\"float64\",\"order\":\"little\"}]],[[{\"type\":\"ndarray\",\"array\":{\"type\":\"bytes\",\"data\":\"L9HonXpmUkEv0eidemZSQcPrHh8uZFJBEEGb8ytkUkHPtIILZWNSQSvOqsRlY1JBKtw+IWZjUkEOlg6XI2NSQQ6WDpcjY1JBn2jAIaJiUkHT1QkMoWJSQZTtqiJ/ZFJBsTNejFNmUkEPKwYbAGdSQQ8rBhsAZ1JBL9HonXpmUkE=\"},\"shape\":[16],\"dtype\":\"float64\",\"order\":\"little\"}]],[[{\"type\":\"ndarray\",\"array\":{\"type\":\"bytes\",\"data\":\"9Ie80FlhUkHYLS421mBSQWux10vXYFJByhabrmBiUkH7YOaYX2JSQdPVCQyhYlJBn2jAIaJiUkGMidXD4WFSQV5WwoLeYVJB9Ie80FlhUkE=\"},\"shape\":[10],\"dtype\":\"float64\",\"order\":\"little\"}]],[[{\"type\":\"ndarray\",\"array\":{\"type\":\"bytes\",\"data\":\"XlbCgt5hUkGljDKZY2NSQTNuTsphY1JBUeTSgvdjUkFWDFInrmRSQZ0Wx/urZFJBGoqxpKdkUkEEf4F0v2NSQT48cbbcYlJBdZc1NcViUkGAQcPfXmJSQSH4WbRcYlJBUmqvQdthUkGxNG7P2WFSQdE7gF5YYVJBZEo1tVxhUkFl8LSPVmFSQfSHvNBZYVJB\"},\"shape\":[18],\"dtype\":\"float64\",\"order\":\"little\"}]],[[{\"type\":\"ndarray\",\"array\":{\"type\":\"bytes\",\"data\":\"0V1bQMReUkFCDQZril5SQZQdJ92LXlJBYWFtWHheUkHrR6oaRl5SQR/ByIxHXlJBeqe6isJdUkEc2vSQvl1SQYtPCrd8W1JBnjsRm39bUkEbVHySdltSQTo8XGBCXFJBR8Kz9DxcUkEHT+dmgF1SQXyJeHyBXVJBv0JVwrxdUkG/QlXCvF1SQQpzdOxyXlJBCnN07HJeUkFXAddPyV5SQQ==\"},\"shape\":[20],\"dtype\":\"float64\",\"order\":\"little\"}],[{\"type\":\"ndarray\",\"array\":{\"type\":\"bytes\",\"data\":\"fhLfydBgUkFGoL9R02BSQcHVF8nYX1JBBil4udNfUkGkwpJbhV5SQewb4WSOXlJBipUjoNFeUkGKlSOg0V5SQbL6hhAgX1JBGPbp+h5fUkEhRoRCPF9SQe5OosdPX1JBsHXzq1JfUkFgbxCwF2BSQZaFQ3HdYFJBfhLfydBgUkE=\"},\"shape\":[16],\"dtype\":\"float64\",\"order\":\"little\"}]],[[{\"type\":\"ndarray\",\"array\":{\"type\":\"bytes\",\"data\":\"L7wf5VJsUkGrMAPtJGxSQe6vc+aha1JBCNzDn6JrUkEblgdsmmpSQZMvJkCYalJBHTzdX5FqUkEblgdsmmpSQVUx212fa1JB7q9z5qFrUkHCtC4tGmtSQbzmyZ8ba1JBzURswdlqUkHCDRxF4GpSQbzmyZ8ba1JBvObJnxtrUkE+EsdR92tSQfRrZdr5a1JBxsxo9ldsUkEvvB/lUmxSQQ==\"},\"shape\":[20],\"dtype\":\"float64\",\"order\":\"little\"}]],[[{\"type\":\"ndarray\",\"array\":{\"type\":\"bytes\",\"data\":\"GnMoeulsUkGbEmZOIWxSQQA4B9cjbFJBuf/GzixtUkG5/8bOLG1SQUx1AJu1blJBwjQPsbZuUkEacyh66WxSQQ==\"},\"shape\":[8],\"dtype\":\"float64\",\"order\":\"little\"}]],[[{\"type\":\"ndarray\",\"array\":{\"type\":\"bytes\",\"data\":\"t6NkHS1uUkFPO8tItW1SQU87y0i1bVJBq6nB7YptUkFYyGcpV21SQW2n/6msbFJBOgqrrqhsUkEvvB/lUmxSQcbMaPZXbFJB9Gtl2vlrUkEPlxMh+WtSQQqD71oqbFJBlIioXyZsUkFRq+twK2xSQYlD1fQxbFJBfiJSb0BsUkFRrJWWRmxSQadyskombVJBV/lk0yhtUkG2RdXs6mxSQRpzKHrpbFJBwjQPsbZuUkFsnEmNP29SQRR7nXs6b1JBfmwEgDZvUkHzBbCRO29SQcI0D7G2blJBLZ2Sy7NuUkE10KeJm25SQRqoiXySblJBfCLnc4VuUkEnFElreG5SQbW5++ZxblJB10xzzHRuUkEtFgXeeW5SQRfkokxqblJBgyMORF1uUkG3o2QdLW5SQQ==\"},\"shape\":[38],\"dtype\":\"float64\",\"order\":\"little\"},{\"type\":\"ndarray\",\"array\":{\"type\":\"bytes\",\"data\":\"qaGJY0FuUkG/bG1Q121SQWjTdWbYbVJB4wcLSMptUkHjBwtIym1SQYi6AJSwbVJBFV94pbVtUkE9NkDBF25SQTKK+DMZblJBqaGJY0FuUkGpoYljQW5SQQ==\"},\"shape\":[11],\"dtype\":\"float64\",\"order\":\"little\"}]],[[{\"type\":\"ndarray\",\"array\":{\"type\":\"bytes\",\"data\":\"Clo+yxttUkEp3ENWaWxSQeHMP4JrbFJBGHhtKqdtUkHzFghkLG5SQdbHHZAublJBbQQ4F4VuUkFpTf5/DG9SQRqID5YNb1JBv136DmNuUkGTp4rL5W1SQQpaPssbbVJB\"},\"shape\":[12],\"dtype\":\"float64\",\"order\":\"little\"}]],[[{\"type\":\"ndarray\",\"array\":{\"type\":\"bytes\",\"data\":\"FhWLpJ5rUkEAJH3uTWtSQV36QglLa1JBXfpCCUtrUkFNlC41TWtSQfLpY2i9a1JBvBQMZg1sUkG8FAxmDWxSQRQguaQ6bFJBaZcPSDpsUkHhzD+Ca2xSQSncQ1ZpbFJB\"},\"shape\":[12],\"dtype\":\"float64\",\"order\":\"little\"}]],[[{\"type\":\"ndarray\",\"array\":{\"type\":\"bytes\",\"data\":\"0wXWSYlrUkFABEYBGGtSQYj1qo4Wa1JBchTbhpdqUkFyFNuGl2pSQeLGOsRSalJBsbWuKe5pUkGQOl6B8mlSQZkvSpfzaVJBdU1ya/FpUkFxMSLD9WlSQUZohlXwaVJBdF4qsvBpUkF1TXJr8WlSQUh3lIoQalJBYO66Xg5qUkEAJH3uTWtSQRYVi6Sea1JBVTHbXZ9rUkEaUSsXoGtSQQ==\"},\"shape\":[20],\"dtype\":\"float64\",\"order\":\"little\"}]],[[{\"type\":\"ndarray\",\"array\":{\"type\":\"bytes\",\"data\":\"8uljaL1rUkFNlC41TWtSQWWOJ/ASa1JBBbGMfRFrUkFgAnWpE2tSQeF5wmIUa1JBUq7wHMJrUkHy6WNovWtSQQ==\"},\"shape\":[8],\"dtype\":\"float64\",\"order\":\"little\"}]],[[{\"type\":\"ndarray\",\"array\":{\"type\":\"bytes\",\"data\":\"YO66Xg5qUkHSbQMYD2pSQTg+vouTalJBMtj5WpVqUkEfF/vSRmpSQW2mfFtJalJBoHe3EX9pUkGSPf3Kf2lSQf0TlpIGaVJBz6DnMAppUkGtQEgAQ2lSQUfijLlDaVJB6U6Z2i1qUkHxGb6uK2pSQWACdakTa1JBBbGMfRFrUkFljifwEmtSQU2ULjVNa1JBXfpCCUtrUkFd+kIJS2tSQQAkfe5Na1JBYO66Xg5qUkE=\"},\"shape\":[22],\"dtype\":\"float64\",\"order\":\"little\"}]],[[{\"type\":\"ndarray\",\"array\":{\"type\":\"bytes\",\"data\":\"YAJ1qRNrUkHxGb6uK2pSQelOmdotalJBR+KMuUNpUkENMBYsRWlSQcjxOtzWalJBw+ofCNlqUkHhecJiFGtSQQ==\"},\"shape\":[8],\"dtype\":\"float64\",\"order\":\"little\"}]],[[{\"type\":\"ndarray\",\"array\":{\"type\":\"bytes\",\"data\":\"zQJDN2FoUkE9i3IiKWhSQY0Mr8AsaFJBjQyvwCxoUkGsFyfiNmhSQawXJ+I2aFJBUILf/1VoUkFQgt//VWhSQUElDIzCaFJBoWfB7b5oUkHNAkM3YWhSQc0CQzdhaFJB\"},\"shape\":[12],\"dtype\":\"float64\",\"order\":\"little\"}]],[[{\"type\":\"ndarray\",\"array\":{\"type\":\"bytes\",\"data\":\"aU3+fwxvUkFtBDgXhW5SQYX5yyiKblJBlw2x/IduUkHldvl9r21SQZTysJCabFJBvBQMZg1sUkHy6WNovWtSQfLpY2i9a1JBUq7wHMJrUkHJQ5KPw2tSQae5M53ya1JB0m6FVvNrUkE/c+dxkW1SQYVUOK5RblJBdlkQS/1uUkFsBjVCL29SQWL5whpob1JBNEohILhvUkE0SiEguG9SQQ==\"},\"shape\":[20],\"dtype\":\"float64\",\"order\":\"little\"}]],[[{\"type\":\"ndarray\",\"array\":{\"type\":\"bytes\",\"data\":\"bQQ4F4VuUkHWxx2QLm5SQfMWCGQsblJBGHhtKqdtUkHhzD+Ca2xSQWmXD0g6bFJBFCC5pDpsUkG8FAxmDWxSQbwUDGYNbFJBlPKwkJpsUkHldvl9r21SQZcNsfyHblJBhfnLKIpuUkFtBDgXhW5SQQ==\"},\"shape\":[14],\"dtype\":\"float64\",\"order\":\"little\"}]],[[{\"type\":\"ndarray\",\"array\":{\"type\":\"bytes\",\"data\":\"PYtyIiloUkEgYPn+tGdSQdi4NogFZ1JBQCZgcgRnUkHMnnhzf2dSQROG+9MLaFJBdD41cg9oUkGNDK/ALGhSQY0Mr8AsaFJBPYtyIiloUkE=\"},\"shape\":[10],\"dtype\":\"float64\",\"order\":\"little\"}]],[[{\"type\":\"ndarray\",\"array\":{\"type\":\"bytes\",\"data\":\"4SNrT4JhUkEDL6ZYXGFSQaVmxBFdYVJBdwwXNuNhUkEw0zfv42FSQdUrU762YlJBB/3j6qdiUkHst1fWlWJSQSuDaw5/YlJBEw19bV1iUkGz6Be+JWJSQc0Z84kJYlJB/RnoIdFhUkHf6VVGqGFSQQ==\"},\"shape\":[14],\"dtype\":\"float64\",\"order\":\"little\"}],[{\"type\":\"ndarray\",\"array\":{\"type\":\"bytes\",\"data\":\"4t2/qaRiUkHKFpuuYGJSQftg5phfYlJBlFQzJh5iUkFzLeY7H2JSQeFRsOcaYVJB4VGw5xphUkGeIh89X2FSQQMvplhcYVJBjexCMpZhUkH0PwNJxmFSQaCkHf/oYVJB+5r4tjpiUkEjmgTaYmJSQad30UmGYlJBf8YIHKZiUkFqpH/W5mJSQWqkf9bmYlJBpjAxUCxkUkGmMDFQLGRSQeDO5NqiYlJB4t2/qaRiUkE=\"},\"shape\":[22],\"dtype\":\"float64\",\"order\":\"little\"}]],[[{\"type\":\"ndarray\",\"array\":{\"type\":\"bytes\",\"data\":\"R8Kz9DxcUkHbYvxdNVxSQcNAotgaXVJBShjbFE1dUkFNDG3DgF1SQTNIvOekXVJBv0JVwrxdUkF8iXh8gV1SQQdP52aAXVJBR8Kz9DxcUkE=\"},\"shape\":[10],\"dtype\":\"float64\",\"order\":\"little\"}],[{\"type\":\"ndarray\",\"array\":{\"type\":\"bytes\",\"data\":\"v0JVwrxdUkEc2vSQvl1SQeqHKstAXVJBlsgLoD5dUkEtlnFlyl5SQVcB10/JXlJBCnN07HJeUkEKc3Tscl5SQQ==\"},\"shape\":[8],\"dtype\":\"float64\",\"order\":\"little\"}],[{\"type\":\"ndarray\",\"array\":{\"type\":\"bytes\",\"data\":\"IUaEQjxfUkEY9un6Hl9SQbL6hhAgX1JBipUjoNFeUkGKlSOg0V5SQewb4WSOXlJBpMKSW4VeUkE5dhMFRV5SQetHqhpGXlJBYWFtWHheUkGUHSfdi15SQUINBmuKXlJB0V1bQMReUkE4dOYsO19SQQ==\"},\"shape\":[14],\"dtype\":\"float64\",\"order\":\"little\"}],[{\"type\":\"ndarray\",\"array\":{\"type\":\"bytes\",\"data\":\"sHXzq1JfUkGwdfOrUl9SQUPtFKobYFJBYG8QsBdgUkE=\"},\"shape\":[4],\"dtype\":\"float64\",\"order\":\"little\"}]],[[{\"type\":\"ndarray\",\"array\":{\"type\":\"bytes\",\"data\":\"LUU2ZORnUkFyNvCP5mdSQRdEi6ewZ1JBF0SLp7BnUkF7GVG8oGdSQU+60a+GZ1JBTEAdhIRnUkF8a/w7fmZSQQIl3854ZlJBdVjXqvdlUkEONHXW+WVSQQsNOqN2ZlJBEpUMuXdmUkEtRTZk5GdSQQ==\"},\"shape\":[14],\"dtype\":\"float64\",\"order\":\"little\"}]],[[{\"type\":\"ndarray\",\"array\":{\"type\":\"bytes\",\"data\":\"soW4iEVpUkEbzlTgSWlSQaG3l3INaVJBw1KyXAxpUkHhslKJgGdSQeGyUomAZ1JBlaxGBcJnUkGFw7ZcxmdSQSnSvBoLaFJBWuGaMAxoUkGsue6jnWhSQRlYKnibaFJBu6tegm9pUkHpTpnaLWpSQfgXUDIyalJBvuFW145qUkFJOSgZkmpSQeJdGjn9alJBKYDLeWFrUkGZtyfCrGtSQRJoUe3balJBzURswdlqUkGycIs0Q2pSQbEsklD0aVJBU748kOZpUkGyhbiIRWlSQQ==\"},\"shape\":[26],\"dtype\":\"float64\",\"order\":\"little\"}]],[[{\"type\":\"ndarray\",\"array\":{\"type\":\"bytes\",\"data\":\"BlI6fXlqUkGxICqTempSQUZohlXwaVJBBIuaP+9pUkGj746yAWhSQY4z5B8HaFJBxslDNEVnUkFhmfWrQmdSQYyurMP7ZlJBtczrRfFmUkE=\"},\"shape\":[10],\"dtype\":\"float64\",\"order\":\"little\"}]],[[{\"type\":\"ndarray\",\"array\":{\"type\":\"bytes\",\"data\":\"7q9z5qFrUkEzm8uJoWtSQR3Msssda1JBAYUXWRxrUkEGUjp9eWpSQbXM60XxZlJBbmBjO/lmUkEgjpX2hWdSQUaOwpSJZ1JByZZf+UhoUkEsXN9rSmhSQYkP/wRSaFJBzAt/rU1oUkGsFyfiNmhSQawXJ+I2aFJB6225tKJoUkGdqmD2pWhSQR083V+RalJBky8mQJhqUkEblgdsmmpSQQjcw5+ia1JB7q9z5qFrUkE=\"},\"shape\":[22],\"dtype\":\"float64\",\"order\":\"little\"}]],[[{\"type\":\"ndarray\",\"array\":{\"type\":\"bytes\",\"data\":\"8xYIZCxuUkHk0VkHLG5SQdZ8Tr0GblJBeKttrOxtUkE+l6gII21SQXUSOEDzbFJBsddWs6RsUkFzk8AaiGxSQTmRaKOKbFJBFQDREntsUkFMA459b2xSQWzN6d5rbFJB4yH0cGZsUkFGMf8CJmxSQaswA+0kbFJBL7wf5VJsUkE6CquuqGxSQW2n/6msbFJBWMhnKVdtUkGrqcHtim1SQU87y0i1bVJBTzvLSLVtUkG3o2QdLW5SQfMWCGQsblJB\"},\"shape\":[24],\"dtype\":\"float64\",\"order\":\"little\"},{\"type\":\"ndarray\",\"array\":{\"type\":\"bytes\",\"data\":\"2ZgCzqFsUkE6CquuqGxSQToKq66obFJBJ595hXxsUkHuK9TmeGxSQTQp2aR1bFJB2ZgCzqFsUkE=\"},\"shape\":[7],\"dtype\":\"float64\",\"order\":\"little\"}]]]],[\"error\",{\"type\":\"ndarray\",\"array\":{\"type\":\"bytes\",\"data\":\"AAAAAAAAAAAAAAAAAAAAAAAAAAAAAAAA/////wEAAAD/////AQAAAAAAAAAAAAAAAQAAAAAAAAAAAAAAAQAAAAAAAAAAAAAAAAAAAAAAAAAAAAAAAAAAAAAAAAAAAAAAAAAAAAAAAAAAAAAAAAAAAAAAAAABAAAAAAAAAAEAAAAAAAAAAAAAAP////8AAAAAAAAAAAAAAAAAAAAAAAAAAAAAAAD/////AAAAAA==\"},\"shape\":[43],\"dtype\":\"int32\",\"order\":\"little\"}],[\"color\",{\"type\":\"ndarray\",\"array\":{\"type\":\"bytes\",\"data\":\"AAAAAAAA/wH/AQAAAQAAAQAAAAAAAAAAAAAAAAABAAEAAP8AAAAAAAD/AA==\"},\"shape\":[43],\"dtype\":\"int8\",\"order\":\"little\"}]]}}},\"view\":{\"type\":\"object\",\"name\":\"CDSView\",\"id\":\"p1470\",\"attributes\":{\"filter\":{\"type\":\"object\",\"name\":\"AllIndices\",\"id\":\"p1471\"}}},\"glyph\":{\"type\":\"object\",\"name\":\"MultiPolygons\",\"id\":\"p1464\",\"attributes\":{\"xs\":{\"type\":\"field\",\"field\":\"xs\"},\"ys\":{\"type\":\"field\",\"field\":\"ys\"},\"fill_color\":{\"type\":\"field\",\"field\":\"color\",\"transform\":{\"type\":\"object\",\"name\":\"LinearColorMapper\",\"id\":\"p1457\",\"attributes\":{\"palette\":[\"#3a4cc0\",\"#3b4dc1\",\"#3c4fc3\",\"#3e51c4\",\"#3f53c6\",\"#4054c7\",\"#4156c9\",\"#4258ca\",\"#435acc\",\"#455bcd\",\"#465dcf\",\"#475fd0\",\"#4860d1\",\"#4962d3\",\"#4b64d4\",\"#4c66d6\",\"#4d67d7\",\"#4e69d8\",\"#506bda\",\"#516cdb\",\"#526edc\",\"#5370dd\",\"#5571de\",\"#5673e0\",\"#5775e1\",\"#5876e2\",\"#5a78e3\",\"#5b79e4\",\"#5c7be5\",\"#5d7de6\",\"#5f7ee7\",\"#6080e8\",\"#6182ea\",\"#6383ea\",\"#6485eb\",\"#6586ec\",\"#6788ed\",\"#6889ee\",\"#698bef\",\"#6b8df0\",\"#6c8ef1\",\"#6d90f1\",\"#6f91f2\",\"#7093f3\",\"#7194f4\",\"#7395f4\",\"#7497f5\",\"#7598f6\",\"#779af6\",\"#789bf7\",\"#7a9df8\",\"#7b9ef8\",\"#7ca0f9\",\"#7ea1f9\",\"#7fa2fa\",\"#80a4fa\",\"#82a5fb\",\"#83a6fb\",\"#85a8fb\",\"#86a9fc\",\"#87aafc\",\"#89acfc\",\"#8aadfd\",\"#8baefd\",\"#8daffd\",\"#8eb1fd\",\"#90b2fe\",\"#91b3fe\",\"#92b4fe\",\"#94b5fe\",\"#95b7fe\",\"#97b8fe\",\"#98b9fe\",\"#99bafe\",\"#9bbbfe\",\"#9cbcfe\",\"#9dbdfe\",\"#9fbefe\",\"#a0bffe\",\"#a2c0fe\",\"#a3c1fe\",\"#a4c2fe\",\"#a6c3fd\",\"#a7c4fd\",\"#a8c5fd\",\"#aac6fd\",\"#abc7fc\",\"#acc8fc\",\"#aec9fc\",\"#afcafb\",\"#b0cbfb\",\"#b2cbfb\",\"#b3ccfa\",\"#b4cdfa\",\"#b6cef9\",\"#b7cff9\",\"#b8cff8\",\"#b9d0f8\",\"#bbd1f7\",\"#bcd1f6\",\"#bdd2f6\",\"#bed3f5\",\"#c0d3f5\",\"#c1d4f4\",\"#c2d4f3\",\"#c3d5f2\",\"#c5d5f2\",\"#c6d6f1\",\"#c7d6f0\",\"#c8d7ef\",\"#c9d7ee\",\"#cad8ee\",\"#ccd8ed\",\"#cdd9ec\",\"#ced9eb\",\"#cfd9ea\",\"#d0dae9\",\"#d1dae8\",\"#d2dae7\",\"#d3dbe6\",\"#d5dbe5\",\"#d6dbe4\",\"#d7dbe2\",\"#d8dbe1\",\"#d9dce0\",\"#dadcdf\",\"#dbdcde\",\"#dcdcdd\",\"#dddcdb\",\"#dedbda\",\"#dfdbd9\",\"#e0dad7\",\"#e1dad6\",\"#e2d9d4\",\"#e3d9d3\",\"#e4d8d1\",\"#e5d8d0\",\"#e6d7cf\",\"#e7d6cd\",\"#e7d6cc\",\"#e8d5ca\",\"#e9d4c9\",\"#ead3c7\",\"#ebd3c6\",\"#ecd2c4\",\"#ecd1c3\",\"#edd0c1\",\"#edcfc0\",\"#eecfbe\",\"#efcebc\",\"#efcdbb\",\"#f0ccb9\",\"#f1cbb8\",\"#f1cab6\",\"#f2c9b5\",\"#f2c8b3\",\"#f2c7b2\",\"#f3c6b0\",\"#f3c5af\",\"#f4c4ad\",\"#f4c3ab\",\"#f4c2aa\",\"#f5c1a8\",\"#f5c0a7\",\"#f5bfa5\",\"#f6bda4\",\"#f6bca2\",\"#f6bba0\",\"#f6ba9f\",\"#f6b99d\",\"#f6b79c\",\"#f6b69a\",\"#f7b598\",\"#f7b397\",\"#f7b295\",\"#f7b194\",\"#f7b092\",\"#f7ae91\",\"#f7ad8f\",\"#f6ab8d\",\"#f6aa8c\",\"#f6a98a\",\"#f6a789\",\"#f6a687\",\"#f6a486\",\"#f6a384\",\"#f5a182\",\"#f5a081\",\"#f59e7f\",\"#f49d7e\",\"#f49b7c\",\"#f49a7b\",\"#f39879\",\"#f39678\",\"#f39576\",\"#f29375\",\"#f29173\",\"#f19072\",\"#f18e70\",\"#f08d6f\",\"#f08b6d\",\"#ef896c\",\"#ee876a\",\"#ee8669\",\"#ed8467\",\"#ec8266\",\"#ec8064\",\"#eb7f63\",\"#ea7d61\",\"#ea7b60\",\"#e9795e\",\"#e8775d\",\"#e7755c\",\"#e6745a\",\"#e67259\",\"#e57057\",\"#e46e56\",\"#e36c54\",\"#e26a53\",\"#e16852\",\"#e06650\",\"#df644f\",\"#de624e\",\"#dd604c\",\"#dc5e4b\",\"#db5c4a\",\"#da5a48\",\"#d95847\",\"#d85646\",\"#d75444\",\"#d65243\",\"#d44f42\",\"#d34d40\",\"#d24b3f\",\"#d1493e\",\"#cf463d\",\"#ce443c\",\"#cd423a\",\"#cc3f39\",\"#ca3d38\",\"#c93b37\",\"#c83835\",\"#c63534\",\"#c53233\",\"#c43032\",\"#c22d31\",\"#c12a30\",\"#bf282e\",\"#be232d\",\"#bc1f2c\",\"#bb1a2b\",\"#b9162a\",\"#b81129\",\"#b60d28\",\"#b50827\",\"#b30326\"],\"low\":-1,\"high\":1}}},\"hatch_color\":{\"type\":\"field\",\"field\":\"color\",\"transform\":{\"id\":\"p1457\"}}}},\"selection_glyph\":{\"type\":\"object\",\"name\":\"MultiPolygons\",\"id\":\"p1466\",\"attributes\":{\"xs\":{\"type\":\"field\",\"field\":\"xs\"},\"ys\":{\"type\":\"field\",\"field\":\"ys\"},\"fill_color\":{\"type\":\"field\",\"field\":\"color\",\"transform\":{\"id\":\"p1457\"}},\"hatch_color\":{\"type\":\"field\",\"field\":\"color\",\"transform\":{\"id\":\"p1457\"}}}},\"nonselection_glyph\":{\"type\":\"object\",\"name\":\"MultiPolygons\",\"id\":\"p1465\",\"attributes\":{\"xs\":{\"type\":\"field\",\"field\":\"xs\"},\"ys\":{\"type\":\"field\",\"field\":\"ys\"},\"line_alpha\":{\"type\":\"value\",\"value\":0.1},\"fill_color\":{\"type\":\"field\",\"field\":\"color\",\"transform\":{\"id\":\"p1457\"}},\"fill_alpha\":{\"type\":\"value\",\"value\":0.1},\"hatch_color\":{\"type\":\"field\",\"field\":\"color\",\"transform\":{\"id\":\"p1457\"}},\"hatch_alpha\":{\"type\":\"value\",\"value\":0.1}}},\"hover_glyph\":{\"type\":\"object\",\"name\":\"MultiPolygons\",\"id\":\"p1467\",\"attributes\":{\"xs\":{\"type\":\"field\",\"field\":\"xs\"},\"ys\":{\"type\":\"field\",\"field\":\"ys\"},\"fill_color\":{\"type\":\"field\",\"field\":\"color\",\"transform\":{\"id\":\"p1457\"}},\"hatch_color\":{\"type\":\"field\",\"field\":\"color\",\"transform\":{\"id\":\"p1457\"}}}},\"muted_glyph\":{\"type\":\"object\",\"name\":\"MultiPolygons\",\"id\":\"p1468\",\"attributes\":{\"xs\":{\"type\":\"field\",\"field\":\"xs\"},\"ys\":{\"type\":\"field\",\"field\":\"ys\"},\"line_alpha\":{\"type\":\"value\",\"value\":0.2},\"fill_color\":{\"type\":\"field\",\"field\":\"color\",\"transform\":{\"id\":\"p1457\"}},\"fill_alpha\":{\"type\":\"value\",\"value\":0.2},\"hatch_color\":{\"type\":\"field\",\"field\":\"color\",\"transform\":{\"id\":\"p1457\"}},\"hatch_alpha\":{\"type\":\"value\",\"value\":0.2}}}}}],\"toolbar\":{\"type\":\"object\",\"name\":\"Toolbar\",\"id\":\"p1441\",\"attributes\":{\"tools\":[{\"type\":\"object\",\"name\":\"WheelZoomTool\",\"id\":\"p1415\",\"attributes\":{\"renderers\":\"auto\",\"zoom_on_axis\":false}},{\"type\":\"object\",\"name\":\"BoxZoomTool\",\"id\":\"p1423\",\"attributes\":{\"overlay\":{\"type\":\"object\",\"name\":\"BoxAnnotation\",\"id\":\"p1416\",\"attributes\":{\"syncable\":false,\"line_color\":\"black\",\"line_alpha\":1.0,\"line_width\":2,\"line_dash\":[4,4],\"fill_color\":\"lightgrey\",\"fill_alpha\":0.5,\"level\":\"overlay\",\"visible\":false,\"left\":{\"type\":\"number\",\"value\":\"nan\"},\"right\":{\"type\":\"number\",\"value\":\"nan\"},\"top\":{\"type\":\"number\",\"value\":\"nan\"},\"bottom\":{\"type\":\"number\",\"value\":\"nan\"},\"left_units\":\"canvas\",\"right_units\":\"canvas\",\"top_units\":\"canvas\",\"bottom_units\":\"canvas\",\"handles\":{\"type\":\"object\",\"name\":\"BoxInteractionHandles\",\"id\":\"p1012\",\"attributes\":{\"all\":{\"type\":\"object\",\"name\":\"AreaVisuals\",\"id\":\"p1011\",\"attributes\":{\"fill_color\":\"white\",\"hover_fill_color\":\"lightgray\"}}}}}},\"match_aspect\":true}},{\"type\":\"object\",\"name\":\"HoverTool\",\"id\":\"p1431\",\"attributes\":{\"tags\":[\"hv_created\"],\"renderers\":[{\"id\":\"p1469\"}],\"tooltips\":[[\"error\",\"@{error}\"]]}},{\"type\":\"object\",\"name\":\"SaveTool\",\"id\":\"p1454\"},{\"type\":\"object\",\"name\":\"PanTool\",\"id\":\"p1455\"},{\"type\":\"object\",\"name\":\"ResetTool\",\"id\":\"p1456\"}],\"active_drag\":{\"id\":\"p1455\"}}},\"left\":[{\"type\":\"object\",\"name\":\"LinearAxis\",\"id\":\"p1449\",\"attributes\":{\"ticker\":{\"type\":\"object\",\"name\":\"MercatorTicker\",\"id\":\"p1479\",\"attributes\":{\"mantissas\":[1,2,5],\"dimension\":\"lat\"}},\"formatter\":{\"type\":\"object\",\"name\":\"MercatorTickFormatter\",\"id\":\"p1480\",\"attributes\":{\"dimension\":\"lat\"}},\"axis_label\":\"Latitude\",\"major_label_policy\":{\"type\":\"object\",\"name\":\"AllLabels\",\"id\":\"p1452\"}}}],\"right\":[{\"type\":\"object\",\"name\":\"ColorBar\",\"id\":\"p1473\",\"attributes\":{\"location\":[0,0],\"title\":\"Predicted Grades Error\",\"ticker\":{\"type\":\"object\",\"name\":\"BasicTicker\",\"id\":\"p1472\",\"attributes\":{\"mantissas\":[1,2,5]}},\"major_label_policy\":{\"type\":\"object\",\"name\":\"NoOverlap\",\"id\":\"p1474\"},\"label_standoff\":8,\"major_tick_line_color\":\"black\",\"bar_line_color\":\"black\",\"color_mapper\":{\"id\":\"p1457\"}}}],\"below\":[{\"type\":\"object\",\"name\":\"LinearAxis\",\"id\":\"p1444\",\"attributes\":{\"ticker\":{\"type\":\"object\",\"name\":\"MercatorTicker\",\"id\":\"p1477\",\"attributes\":{\"mantissas\":[1,2,5],\"dimension\":\"lon\"}},\"formatter\":{\"type\":\"object\",\"name\":\"MercatorTickFormatter\",\"id\":\"p1478\",\"attributes\":{\"dimension\":\"lon\"}},\"axis_label\":\"Longitude\",\"major_label_policy\":{\"type\":\"object\",\"name\":\"AllLabels\",\"id\":\"p1447\"}}}],\"center\":[{\"type\":\"object\",\"name\":\"Grid\",\"id\":\"p1448\",\"attributes\":{\"axis\":{\"id\":\"p1444\"},\"grid_line_color\":null}},{\"type\":\"object\",\"name\":\"Grid\",\"id\":\"p1453\",\"attributes\":{\"dimension\":1,\"axis\":{\"id\":\"p1449\"},\"grid_line_color\":null}}],\"frame_width\":295,\"frame_height\":300,\"min_border_top\":10,\"min_border_bottom\":10,\"min_border_left\":10,\"min_border_right\":10,\"output_backend\":\"webgl\",\"match_aspect\":true}},{\"type\":\"object\",\"name\":\"Spacer\",\"id\":\"p1482\",\"attributes\":{\"name\":\"HSpacer02019\",\"stylesheets\":[\"\\n:host(.pn-loading):before, .pn-loading:before {\\n  background-color: #c3c3c3;\\n  mask-size: auto calc(min(50%, 400px));\\n  -webkit-mask-size: auto calc(min(50%, 400px));\\n}\",{\"id\":\"p1404\"},{\"id\":\"p1402\"},{\"id\":\"p1403\"}],\"margin\":0,\"sizing_mode\":\"stretch_width\",\"align\":\"start\"}}]}}],\"defs\":[{\"type\":\"model\",\"name\":\"ReactiveHTML1\"},{\"type\":\"model\",\"name\":\"FlexBox1\",\"properties\":[{\"name\":\"align_content\",\"kind\":\"Any\",\"default\":\"flex-start\"},{\"name\":\"align_items\",\"kind\":\"Any\",\"default\":\"flex-start\"},{\"name\":\"flex_direction\",\"kind\":\"Any\",\"default\":\"row\"},{\"name\":\"flex_wrap\",\"kind\":\"Any\",\"default\":\"wrap\"},{\"name\":\"gap\",\"kind\":\"Any\",\"default\":\"\"},{\"name\":\"justify_content\",\"kind\":\"Any\",\"default\":\"flex-start\"}]},{\"type\":\"model\",\"name\":\"FloatPanel1\",\"properties\":[{\"name\":\"config\",\"kind\":\"Any\",\"default\":{\"type\":\"map\"}},{\"name\":\"contained\",\"kind\":\"Any\",\"default\":true},{\"name\":\"position\",\"kind\":\"Any\",\"default\":\"right-top\"},{\"name\":\"offsetx\",\"kind\":\"Any\",\"default\":null},{\"name\":\"offsety\",\"kind\":\"Any\",\"default\":null},{\"name\":\"theme\",\"kind\":\"Any\",\"default\":\"primary\"},{\"name\":\"status\",\"kind\":\"Any\",\"default\":\"normalized\"}]},{\"type\":\"model\",\"name\":\"GridStack1\",\"properties\":[{\"name\":\"mode\",\"kind\":\"Any\",\"default\":\"warn\"},{\"name\":\"ncols\",\"kind\":\"Any\",\"default\":null},{\"name\":\"nrows\",\"kind\":\"Any\",\"default\":null},{\"name\":\"allow_resize\",\"kind\":\"Any\",\"default\":true},{\"name\":\"allow_drag\",\"kind\":\"Any\",\"default\":true},{\"name\":\"state\",\"kind\":\"Any\",\"default\":[]}]},{\"type\":\"model\",\"name\":\"drag1\",\"properties\":[{\"name\":\"slider_width\",\"kind\":\"Any\",\"default\":5},{\"name\":\"slider_color\",\"kind\":\"Any\",\"default\":\"black\"},{\"name\":\"value\",\"kind\":\"Any\",\"default\":50}]},{\"type\":\"model\",\"name\":\"click1\",\"properties\":[{\"name\":\"terminal_output\",\"kind\":\"Any\",\"default\":\"\"},{\"name\":\"debug_name\",\"kind\":\"Any\",\"default\":\"\"},{\"name\":\"clears\",\"kind\":\"Any\",\"default\":0}]},{\"type\":\"model\",\"name\":\"FastWrapper1\",\"properties\":[{\"name\":\"object\",\"kind\":\"Any\",\"default\":null},{\"name\":\"style\",\"kind\":\"Any\",\"default\":null}]},{\"type\":\"model\",\"name\":\"NotificationAreaBase1\",\"properties\":[{\"name\":\"js_events\",\"kind\":\"Any\",\"default\":{\"type\":\"map\"}},{\"name\":\"position\",\"kind\":\"Any\",\"default\":\"bottom-right\"},{\"name\":\"_clear\",\"kind\":\"Any\",\"default\":0}]},{\"type\":\"model\",\"name\":\"NotificationArea1\",\"properties\":[{\"name\":\"js_events\",\"kind\":\"Any\",\"default\":{\"type\":\"map\"}},{\"name\":\"notifications\",\"kind\":\"Any\",\"default\":[]},{\"name\":\"position\",\"kind\":\"Any\",\"default\":\"bottom-right\"},{\"name\":\"_clear\",\"kind\":\"Any\",\"default\":0},{\"name\":\"types\",\"kind\":\"Any\",\"default\":[{\"type\":\"map\",\"entries\":[[\"type\",\"warning\"],[\"background\",\"#ffc107\"],[\"icon\",{\"type\":\"map\",\"entries\":[[\"className\",\"fas fa-exclamation-triangle\"],[\"tagName\",\"i\"],[\"color\",\"white\"]]}]]},{\"type\":\"map\",\"entries\":[[\"type\",\"info\"],[\"background\",\"#007bff\"],[\"icon\",{\"type\":\"map\",\"entries\":[[\"className\",\"fas fa-info-circle\"],[\"tagName\",\"i\"],[\"color\",\"white\"]]}]]}]}]},{\"type\":\"model\",\"name\":\"Notification\",\"properties\":[{\"name\":\"background\",\"kind\":\"Any\",\"default\":null},{\"name\":\"duration\",\"kind\":\"Any\",\"default\":3000},{\"name\":\"icon\",\"kind\":\"Any\",\"default\":null},{\"name\":\"message\",\"kind\":\"Any\",\"default\":\"\"},{\"name\":\"notification_type\",\"kind\":\"Any\",\"default\":null},{\"name\":\"_destroyed\",\"kind\":\"Any\",\"default\":false}]},{\"type\":\"model\",\"name\":\"TemplateActions1\",\"properties\":[{\"name\":\"open_modal\",\"kind\":\"Any\",\"default\":0},{\"name\":\"close_modal\",\"kind\":\"Any\",\"default\":0}]},{\"type\":\"model\",\"name\":\"BootstrapTemplateActions1\",\"properties\":[{\"name\":\"open_modal\",\"kind\":\"Any\",\"default\":0},{\"name\":\"close_modal\",\"kind\":\"Any\",\"default\":0}]},{\"type\":\"model\",\"name\":\"TemplateEditor1\",\"properties\":[{\"name\":\"layout\",\"kind\":\"Any\",\"default\":[]}]},{\"type\":\"model\",\"name\":\"MaterialTemplateActions1\",\"properties\":[{\"name\":\"open_modal\",\"kind\":\"Any\",\"default\":0},{\"name\":\"close_modal\",\"kind\":\"Any\",\"default\":0}]},{\"type\":\"model\",\"name\":\"ReactiveESM1\"},{\"type\":\"model\",\"name\":\"JSComponent1\"},{\"type\":\"model\",\"name\":\"ReactComponent1\"},{\"type\":\"model\",\"name\":\"AnyWidgetComponent1\"},{\"type\":\"model\",\"name\":\"request_value1\",\"properties\":[{\"name\":\"fill\",\"kind\":\"Any\",\"default\":\"none\"},{\"name\":\"_synced\",\"kind\":\"Any\",\"default\":null},{\"name\":\"_request_sync\",\"kind\":\"Any\",\"default\":0}]}]}};\n",
              "  var render_items = [{\"docid\":\"2ecf2d46-539c-4814-b321-c9fa057a2a50\",\"roots\":{\"p1401\":\"a6f7f9cb-5f52-48a1-82e2-d621f6392e2a\"},\"root_ids\":[\"p1401\"]}];\n",
              "  var docs = Object.values(docs_json)\n",
              "  if (!docs) {\n",
              "    return\n",
              "  }\n",
              "  const py_version = docs[0].version.replace('rc', '-rc.').replace('.dev', '-dev.')\n",
              "  async function embed_document(root) {\n",
              "    var Bokeh = get_bokeh(root)\n",
              "    await Bokeh.embed.embed_items_notebook(docs_json, render_items);\n",
              "    for (const render_item of render_items) {\n",
              "      for (const root_id of render_item.root_ids) {\n",
              "\tconst id_el = document.getElementById(root_id)\n",
              "\tif (id_el.children.length && id_el.children[0].hasAttribute('data-root-id')) {\n",
              "\t  const root_el = id_el.children[0]\n",
              "\t  root_el.id = root_el.id + '-rendered'\n",
              "\t  for (const child of root_el.children) {\n",
              "            // Ensure JupyterLab does not capture keyboard shortcuts\n",
              "            // see: https://jupyterlab.readthedocs.io/en/4.1.x/extension/notebook.html#keyboard-interaction-model\n",
              "\t    child.setAttribute('data-lm-suppress-shortcuts', 'true')\n",
              "\t  }\n",
              "\t}\n",
              "      }\n",
              "    }\n",
              "  }\n",
              "  function get_bokeh(root) {\n",
              "    if (root.Bokeh === undefined) {\n",
              "      return null\n",
              "    } else if (root.Bokeh.version !== py_version) {\n",
              "      if (root.Bokeh.versions === undefined || !root.Bokeh.versions.has(py_version)) {\n",
              "\treturn null\n",
              "      }\n",
              "      return root.Bokeh.versions.get(py_version);\n",
              "    } else if (root.Bokeh.version === py_version) {\n",
              "      return root.Bokeh\n",
              "    }\n",
              "    return null\n",
              "  }\n",
              "  function is_loaded(root) {\n",
              "    var Bokeh = get_bokeh(root)\n",
              "    return (Bokeh != null && Bokeh.Panel !== undefined)\n",
              "  }\n",
              "  if (is_loaded(root)) {\n",
              "    embed_document(root);\n",
              "  } else {\n",
              "    var attempts = 0;\n",
              "    var timer = setInterval(function(root) {\n",
              "      if (is_loaded(root)) {\n",
              "        clearInterval(timer);\n",
              "        embed_document(root);\n",
              "      } else if (document.readyState == \"complete\") {\n",
              "        attempts++;\n",
              "        if (attempts > 200) {\n",
              "          clearInterval(timer);\n",
              "\t  var Bokeh = get_bokeh(root)\n",
              "\t  if (Bokeh == null || Bokeh.Panel == null) {\n",
              "            console.warn(\"Panel: ERROR: Unable to run Panel code because Bokeh or Panel library is missing\");\n",
              "\t  } else {\n",
              "\t    console.warn(\"Panel: WARNING: Attempting to render but not all required libraries could be resolved.\")\n",
              "\t    embed_document(root)\n",
              "\t  }\n",
              "        }\n",
              "      }\n",
              "    }, 25, root)\n",
              "  }\n",
              "})(window);</script>"
            ],
            "text/plain": [
              ":Polygons   [Longitude,Latitude]   (error)"
            ]
          },
          "execution_count": 12,
          "metadata": {
            "application/vnd.holoviews_exec.v0+json": {
              "id": "p1401"
            }
          },
          "output_type": "execute_result"
        }
      ],
      "source": [
        "denver_redlining_ndvi_gdf ['predictions'] = (\n",
        "    tree_classifier.predict(\n",
        "        denver_redlining_ndvi_gdf[['mean']])\n",
        ")\n",
        "\n",
        "denver_redlining_ndvi_gdf['error'] = (\n",
        "    denver_redlining_ndvi_gdf ['predictions']\n",
        "    - denver_redlining_ndvi_gdf ['grade_codes']\n",
        ")\n",
        "\n",
        "denver_redlining_ndvi_gdf.hvplot(\n",
        "    c='error',\n",
        "    geo=True,\n",
        "    xaxis='Longitude', \n",
        "    yaxis='Latitude',\n",
        "    clabel='Predicted Grades Error',\n",
        "    title='Denver Calculated Prediction Errors',\n",
        "    )\n"
      ]
    },
    {
      "cell_type": "markdown",
      "id": "b29427a3-8a7f-4634-ba02-cf58fe3021ab",
      "metadata": {},
      "source": [
        "One method of evaluating your model’s accuracy is by cross-validation.\n",
        "This involves selecting some of your data at random, fitting the model,\n",
        "and then testing the model on a different group. Cross-validation gives\n",
        "you a range of potential accuracies using a subset of your data. It also\n",
        "has a couple of advantages, including:\n",
        "\n",
        "1.  It’s good at identifying overfitting, because it tests on a\n",
        "    different set of data than it trains on.\n",
        "2.  You can use cross-validation on any model, unlike statistics like\n",
        "    $p$-values and $R^2$ that you may have used in the past.\n",
        "\n",
        "A disadvantage of cross-validation is that with smaller datasets like\n",
        "this one, it is easy to end up with splits that are too small to be\n",
        "meaningful, or don’t have all the categories.\n",
        "\n",
        "Remember – anything above 25% is better than random!\n",
        "\n",
        "<link rel=\"stylesheet\" type=\"text/css\" href=\"./assets/styles.css\"><div class=\"callout callout-style-default callout-titled callout-task\"><div class=\"callout-header\"><div class=\"callout-icon-container\"><i class=\"callout-icon\"></i></div><div class=\"callout-title-container flex-fill\">Try It: Evaluate the model</div></div><div class=\"callout-body-container callout-body\"><p>Use cross-validation with the <code>cross_val_score</code> to\n",
        "evaluate your model. Start out with the <code>'balanced_accuracy'</code>\n",
        "scoring method, and 4 cross-validation groups.</p></div></div>"
      ]
    },
    {
      "cell_type": "code",
      "execution_count": 13,
      "id": "d1c25e59",
      "metadata": {},
      "outputs": [
        {
          "name": "stdout",
          "output_type": "stream",
          "text": [
            "Help on function cross_val_score in module sklearn.model_selection._validation:\n",
            "\n",
            "cross_val_score(estimator, X, y=None, *, groups=None, scoring=None, cv=None, n_jobs=None, verbose=0, fit_params=None, params=None, pre_dispatch='2*n_jobs', error_score=nan)\n",
            "    Evaluate a score by cross-validation.\n",
            "    \n",
            "    Read more in the :ref:`User Guide <cross_validation>`.\n",
            "    \n",
            "    Parameters\n",
            "    ----------\n",
            "    estimator : estimator object implementing 'fit'\n",
            "        The object to use to fit the data.\n",
            "    \n",
            "    X : {array-like, sparse matrix} of shape (n_samples, n_features)\n",
            "        The data to fit. Can be for example a list, or an array.\n",
            "    \n",
            "    y : array-like of shape (n_samples,) or (n_samples, n_outputs),             default=None\n",
            "        The target variable to try to predict in the case of\n",
            "        supervised learning.\n",
            "    \n",
            "    groups : array-like of shape (n_samples,), default=None\n",
            "        Group labels for the samples used while splitting the dataset into\n",
            "        train/test set. Only used in conjunction with a \"Group\" :term:`cv`\n",
            "        instance (e.g., :class:`GroupKFold`).\n",
            "    \n",
            "        .. versionchanged:: 1.4\n",
            "            ``groups`` can only be passed if metadata routing is not enabled\n",
            "            via ``sklearn.set_config(enable_metadata_routing=True)``. When routing\n",
            "            is enabled, pass ``groups`` alongside other metadata via the ``params``\n",
            "            argument instead. E.g.:\n",
            "            ``cross_val_score(..., params={'groups': groups})``.\n",
            "    \n",
            "    scoring : str or callable, default=None\n",
            "        A str (see model evaluation documentation) or\n",
            "        a scorer callable object / function with signature\n",
            "        ``scorer(estimator, X, y)`` which should return only\n",
            "        a single value.\n",
            "    \n",
            "        Similar to :func:`cross_validate`\n",
            "        but only a single metric is permitted.\n",
            "    \n",
            "        If `None`, the estimator's default scorer (if available) is used.\n",
            "    \n",
            "    cv : int, cross-validation generator or an iterable, default=None\n",
            "        Determines the cross-validation splitting strategy.\n",
            "        Possible inputs for cv are:\n",
            "    \n",
            "        - `None`, to use the default 5-fold cross validation,\n",
            "        - int, to specify the number of folds in a `(Stratified)KFold`,\n",
            "        - :term:`CV splitter`,\n",
            "        - An iterable that generates (train, test) splits as arrays of indices.\n",
            "    \n",
            "        For `int`/`None` inputs, if the estimator is a classifier and `y` is\n",
            "        either binary or multiclass, :class:`StratifiedKFold` is used. In all\n",
            "        other cases, :class:`KFold` is used. These splitters are instantiated\n",
            "        with `shuffle=False` so the splits will be the same across calls.\n",
            "    \n",
            "        Refer :ref:`User Guide <cross_validation>` for the various\n",
            "        cross-validation strategies that can be used here.\n",
            "    \n",
            "        .. versionchanged:: 0.22\n",
            "            `cv` default value if `None` changed from 3-fold to 5-fold.\n",
            "    \n",
            "    n_jobs : int, default=None\n",
            "        Number of jobs to run in parallel. Training the estimator and computing\n",
            "        the score are parallelized over the cross-validation splits.\n",
            "        ``None`` means 1 unless in a :obj:`joblib.parallel_backend` context.\n",
            "        ``-1`` means using all processors. See :term:`Glossary <n_jobs>`\n",
            "        for more details.\n",
            "    \n",
            "    verbose : int, default=0\n",
            "        The verbosity level.\n",
            "    \n",
            "    fit_params : dict, default=None\n",
            "        Parameters to pass to the fit method of the estimator.\n",
            "    \n",
            "        .. deprecated:: 1.4\n",
            "            This parameter is deprecated and will be removed in version 1.6. Use\n",
            "            ``params`` instead.\n",
            "    \n",
            "    params : dict, default=None\n",
            "        Parameters to pass to the underlying estimator's ``fit``, the scorer,\n",
            "        and the CV splitter.\n",
            "    \n",
            "        .. versionadded:: 1.4\n",
            "    \n",
            "    pre_dispatch : int or str, default='2*n_jobs'\n",
            "        Controls the number of jobs that get dispatched during parallel\n",
            "        execution. Reducing this number can be useful to avoid an\n",
            "        explosion of memory consumption when more jobs get dispatched\n",
            "        than CPUs can process. This parameter can be:\n",
            "    \n",
            "            - ``None``, in which case all the jobs are immediately\n",
            "              created and spawned. Use this for lightweight and\n",
            "              fast-running jobs, to avoid delays due to on-demand\n",
            "              spawning of the jobs\n",
            "    \n",
            "            - An int, giving the exact number of total jobs that are\n",
            "              spawned\n",
            "    \n",
            "            - A str, giving an expression as a function of n_jobs,\n",
            "              as in '2*n_jobs'\n",
            "    \n",
            "    error_score : 'raise' or numeric, default=np.nan\n",
            "        Value to assign to the score if an error occurs in estimator fitting.\n",
            "        If set to 'raise', the error is raised.\n",
            "        If a numeric value is given, FitFailedWarning is raised.\n",
            "    \n",
            "        .. versionadded:: 0.20\n",
            "    \n",
            "    Returns\n",
            "    -------\n",
            "    scores : ndarray of float of shape=(len(list(cv)),)\n",
            "        Array of scores of the estimator for each run of the cross validation.\n",
            "    \n",
            "    See Also\n",
            "    --------\n",
            "    cross_validate : To run cross-validation on multiple metrics and also to\n",
            "        return train scores, fit times and score times.\n",
            "    \n",
            "    cross_val_predict : Get predictions from each split of cross-validation for\n",
            "        diagnostic purposes.\n",
            "    \n",
            "    sklearn.metrics.make_scorer : Make a scorer from a performance metric or\n",
            "        loss function.\n",
            "    \n",
            "    Examples\n",
            "    --------\n",
            "    >>> from sklearn import datasets, linear_model\n",
            "    >>> from sklearn.model_selection import cross_val_score\n",
            "    >>> diabetes = datasets.load_diabetes()\n",
            "    >>> X = diabetes.data[:150]\n",
            "    >>> y = diabetes.target[:150]\n",
            "    >>> lasso = linear_model.Lasso()\n",
            "    >>> print(cross_val_score(lasso, X, y, cv=3))\n",
            "    [0.3315057  0.08022103 0.03531816]\n",
            "\n"
          ]
        }
      ],
      "source": [
        "help(cross_val_score)"
      ]
    },
    {
      "cell_type": "code",
      "execution_count": 14,
      "id": "03274512",
      "metadata": {
        "highlight": true
      },
      "outputs": [
        {
          "data": {
            "text/plain": [
              "array([0.6       , 0.78571429, 0.57142857])"
            ]
          },
          "execution_count": 14,
          "metadata": {},
          "output_type": "execute_result"
        }
      ],
      "source": [
        "# Evaluate the model with cross-validation\n",
        "cross_val_score(\n",
        "    DecisionTreeClassifier(max_depth=2),\n",
        "    denver_redlining_ndvi_gdf[['mean']],\n",
        "    denver_redlining_ndvi_gdf.grade_codes,\n",
        "    cv=3\n",
        ")"
      ]
    },
    {
      "cell_type": "markdown",
      "id": "322e1b7b-7205-4776-aae3-dcc3b068977f",
      "metadata": {},
      "source": [
        "<link rel=\"stylesheet\" type=\"text/css\" href=\"./assets/styles.css\"><div class=\"callout callout-style-default callout-titled callout-extra\"><div class=\"callout-header\"><div class=\"callout-icon-container\"><i class=\"callout-icon\"></i></div><div class=\"callout-title-container flex-fill\">Looking for an Extra Challenge?: Fit and evaluate an alternative model</div></div><div class=\"callout-body-container callout-body\"><p>Try out some other models and/or hyperparameters (e.g. changing the\n",
        "max_depth). What do you notice?</p></div></div>"
      ]
    },
    {
      "cell_type": "code",
      "execution_count": 15,
      "id": "b2387dd1",
      "metadata": {
        "highlight": true
      },
      "outputs": [
        {
          "data": {
            "text/plain": [
              "array([0.53333333, 0.78571429, 0.71428571])"
            ]
          },
          "execution_count": 15,
          "metadata": {},
          "output_type": "execute_result"
        }
      ],
      "source": [
        "# Try another model - changing the hyperparameters\n",
        "# Evaluate the model with cross-validation\n",
        "cross_val_score(\n",
        "    DecisionTreeClassifier(max_depth=4),\n",
        "    denver_redlining_ndvi_gdf[['mean']],\n",
        "    denver_redlining_ndvi_gdf.grade_codes,\n",
        "    cv=3\n",
        ")"
      ]
    },
    {
      "cell_type": "markdown",
      "id": "89b80a8f-a63f-4ed8-9a20-51bb771a6bab",
      "metadata": {},
      "source": [
        "<link rel=\"stylesheet\" type=\"text/css\" href=\"./assets/styles.css\"><div class=\"callout callout-style-default callout-titled callout-respond\"><div class=\"callout-header\"><div class=\"callout-icon-container\"><i class=\"callout-icon\"></i></div><div class=\"callout-title-container flex-fill\">Reflect and Respond</div></div><div class=\"callout-body-container callout-body\"><p>Practice writing about your model. In a few sentences, explain your\n",
        "methods, including some advantages and disadvantages of the choice.\n",
        "Then, report back on your results. Does your model indicate that\n",
        "vegetation health in a neighborhood is related to its redlining\n",
        "grade?</p></div></div>"
      ]
    },
    {
      "cell_type": "markdown",
      "id": "5286e179-8b3f-488d-889a-70829ae9cbaf",
      "metadata": {},
      "source": [
        "# Model Description and Evaluation\n",
        "\n"
      ]
    },
    {
      "cell_type": "markdown",
      "id": "0bda8e87",
      "metadata": {},
      "source": [
        "For this Model, the 'scikit_learn' package was employed to use \n",
        "the class 'DecisionTreeClassifeir' to fit a Tree Model to the \n",
        "previously made 'denver_redlining_ndvi_gdf' variable columns \n",
        "'mean' (NDVI) and 'grade_codes' (converted redlining categories\n",
        "to numbers).\n",
        "After, this model was plotted using the function 'plot_tree' \n",
        "and module 'matplotlib.pyplot', revealed a simple model \n",
        "with only 4 recatangles (equal to the number of redlining \n",
        "categories) which is appropriate. This model with only 4 \n",
        "recatnagles/ thresholds was set by setting the parameter of \n",
        "'max_depth' to 2, which limits the depth and overfitting \n",
        "of the model. This is an advantage of using this model. \n",
        "It is difficult to work with other possible choices because this\n",
        "particular dataset is so small that it's hard to see the \n",
        "diminishing point of return with other models.\n",
        "\n",
        "Model results were further plotted to predict (Redlining) grades \n",
        "for each zonal region using the '.predict()' method of the \n",
        "'DecisionTreeClassifier' class. By using 'hvplot' to plot the\n",
        "error of the predictions shows that there are relatively few\n",
        "regions where the redlining grade/category was either up by 1\n",
        "(a category B was predicted as A) or down by 1 (a category \n",
        "B was predicted as C). It is also good that the error is only by \n",
        "+/- 1 instead of something like +/- 2.\n",
        "\n",
        "Next, the model was evaluated by using the function 'cross_val_scores' \n",
        "to validate the accuracy of the model. This cross validation is beneficial \n",
        "because it also is good at identifying overfitting; however, because this\n",
        "datset is so small it can result in splits that are too small to remain \n",
        "meaningful, or not have all the categories. The evaluation showed values of \n",
        "[0.6       , 0.78571429, 0.57142857] which would all be percentages greater \n",
        "than 25%, this means there is a meaningful relationship between mean NDVI \n",
        "and the redlining category.\n",
        "\n",
        "To further elaborate, low mean NDVI is correlated to \n",
        "a low redlining grade or category - those areas that were redlined \n",
        "as lower grades have caused lasting effects on the lack of \n",
        "urban greenspace in these low grade redlined areas in Denver. \n",
        "This further exemplifies the Site Description of Denver that\n",
        "visually and through researched articles, that the majority of \n",
        "parks and urban greenspace are in those higher grade redlined areas \n",
        "which are predominately white and higher economic classes. The \n",
        "lack of urban greenspace disporportionately affects people of color \n",
        "and lower socioeconomic classes due to redlining from the \n",
        "City Beautiful and New Deal era."
      ]
    }
  ],
  "metadata": {
    "kernelspec": {
      "display_name": "earth-analytics-python",
      "language": "python",
      "name": "python3"
    },
    "language_info": {
      "codemirror_mode": {
        "name": "ipython",
        "version": 3
      },
      "file_extension": ".py",
      "mimetype": "text/x-python",
      "name": "python",
      "nbconvert_exporter": "python",
      "pygments_lexer": "ipython3",
      "version": "3.11.10"
    }
  },
  "nbformat": 4,
  "nbformat_minor": 5
}
